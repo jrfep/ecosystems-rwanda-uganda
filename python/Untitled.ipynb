{
 "cells": [
  {
   "cell_type": "code",
   "execution_count": 4,
   "id": "ba2d435e-c02a-4255-889d-f5c198f3f21a",
   "metadata": {},
   "outputs": [],
   "source": [
    "from datetime import datetime, timedelta\n",
    "\n",
    "import ipyplot\n",
    "from dateutil.relativedelta import relativedelta\n",
    "from IPython.display import Image\n",
    "from pyinaturalist import (\n",
    "    ICONIC_TAXA,\n",
    "    Observation,\n",
    "    TaxonCount,\n",
    "    UserCount,\n",
    "    enable_logging,\n",
    "    get_observation_histogram,\n",
    "    get_observation_identifiers,\n",
    "    get_observation_observers,\n",
    "    get_observation_species_counts,\n",
    "    get_observations,\n",
    "    pprint,\n",
    ")\n",
    "from rich import print\n",
    "\n",
    "enable_logging()"
   ]
  },
  {
   "cell_type": "code",
   "execution_count": 11,
   "id": "850179a0-6e1b-4fd8-85fa-3ce310851c5f",
   "metadata": {},
   "outputs": [],
   "source": [
    "import folium\n",
    "import pandas as pd"
   ]
  },
  {
   "cell_type": "code",
   "execution_count": 6,
   "id": "90dd6bc2-8a91-4eb5-bb9d-ffca1ee50992",
   "metadata": {},
   "outputs": [],
   "source": [
    "def popup_html(df,row):\n",
    "    name=df['taxon'].iloc[row] \n",
    "    place=df['place'].iloc[row] \n",
    "    url=df['url'].iloc[row]\n",
    "    \n",
    "    if df['EFG'].iloc[row] is None:\n",
    "        html = \"\"\"<!DOCTYPE html>\n",
    "<html>\n",
    "<head>\n",
    "<h4 style=\"margin-bottom:10\"; width=\"200px\">{taxon}</h4>\n",
    "</head>\n",
    "<a href='{url}' target='inat'>iNat page</a>\n",
    "    <table style=\"height: 126px; width: 200px;\">\n",
    "<tbody>\n",
    "<tr>\n",
    "<td style=\"background-color: {color1};\"><span style=\"color: #ffffff;\">Place</span></td>\n",
    "<td style=\"width: 60%;background-color: {color2};\">{place}</td>\n",
    "</tr>\n",
    "<tr>\n",
    "<td style=\"background-color: {color1};\"><span style=\"color: #ffffff;\">Taxon</span></td>\n",
    "<td style=\"width: 60%;background-color: {color2};\">{taxon}</td>\n",
    "</tr>\n",
    "</tbody>\n",
    "</table>\n",
    "<span>{message}</span>\n",
    "</html>\n",
    "\"\"\"\n",
    "        if df['has_context'].iloc[row] is None:\n",
    "            message='This observation needs to be reviewed'\n",
    "        elif df['has_context'].iloc[row] is True:\n",
    "            message='This observation has been reviewed but some information is missing'\n",
    "        else:\n",
    "            message='This observation has been reviewed but does not have enough context to assign a Ecosystem Functional Group'\n",
    "        \n",
    "        output=html.format(taxon=name,place=place,url=url,EFG=None,comment=None,\n",
    "                           color1=\"#a9a7bd\",color2=\"#d2d0d3\",message=message)\n",
    "\n",
    "    else:\n",
    "        efg=df['EFG'].iloc[row]\n",
    "        comment=df['comment'].iloc[row]\n",
    "    \n",
    "        html = \"\"\"<!DOCTYPE html>\n",
    "<html>\n",
    "<head>\n",
    "<h4 style=\"margin-bottom:10\"; width=\"200px\">{taxon}</h4>\n",
    "</head>\n",
    "<a href='{url}' target='inat'>iNat page</a>\n",
    "    <table style=\"height: 126px; width: 300px;\">\n",
    "<tbody>\n",
    "<tr>\n",
    "<td style=\"background-color: {color1};\"><span style=\"color: #ffffff;\">Place</span></td>\n",
    "<td style=\"width: 60%;background-color: {color2};\">{place}</td>\n",
    "</tr>\n",
    "<tr>\n",
    "<td style=\"background-color: {color1};\"><span style=\"color: #ffffff;\">Taxon</span></td>\n",
    "<td style=\"width: 60%;background-color: {color2};\">{taxon}</td>\n",
    "</tr>\n",
    "<tr>\n",
    "<td style=\"background-color: {color1};\"><span style=\"color: #ffffff;\">EFG</span></td>\n",
    "<td style=\"width: 60%;background-color: {color2};\">{EFG}</td>\n",
    "</tr>\n",
    "<tr>\n",
    "<td style=\"background-color: {color1};\"><span style=\"color: #ffffff;\">Comment</span></td>\n",
    "<td style=\"width: 60%;background-color: {color2};\">{comment}</td>\n",
    "</tr>\n",
    "</tbody>\n",
    "</table>\n",
    "</html>\n",
    "\"\"\"\n",
    "        output=html.format(taxon=name,place=place,url=url,EFG=efg,comment=comment,color1=\"#19a7bd\",color2=\"#f2f0d3\")\n",
    "        \n",
    "    return output"
   ]
  },
  {
   "cell_type": "code",
   "execution_count": 7,
   "id": "96eed491-f889-488e-bae9-a4ce58923b34",
   "metadata": {},
   "outputs": [
    {
     "data": {
      "text/html": [
       "<pre style=\"white-space:pre;overflow-x:auto;line-height:normal;font-family:Menlo,'DejaVu Sans Mono',consolas,'Courier New',monospace\"><span style=\"color: #7fbfbf; text-decoration-color: #7fbfbf\">[07-09 06:47:55] </span><span style=\"color: #000080; text-decoration-color: #000080\">INFO    </span> Request:                                             <a href=\"file:///Users/jferrer/miniconda3/envs/ee/lib/python3.9/site-packages/pyinaturalist/session.py\" target=\"_blank\"><span style=\"color: #7f7f7f; text-decoration-color: #7f7f7f\">session.py</span></a><span style=\"color: #7f7f7f; text-decoration-color: #7f7f7f\">:</span><a href=\"file:///Users/jferrer/miniconda3/envs/ee/lib/python3.9/site-packages/pyinaturalist/session.py#245\" target=\"_blank\"><span style=\"color: #7f7f7f; text-decoration-color: #7f7f7f\">245</span></a>\n",
       "<span style=\"color: #7fbfbf; text-decoration-color: #7fbfbf\">                 </span>         <span style=\"color: #808000; text-decoration-color: #808000; font-weight: bold\">GET</span> <span style=\"color: #0000ff; text-decoration-color: #0000ff; text-decoration: underline\">https://api.inaturalist.org/v1/observations?taxo</span> <span style=\"color: #7f7f7f; text-decoration-color: #7f7f7f\">              </span>\n",
       "<span style=\"color: #7fbfbf; text-decoration-color: #7fbfbf\">                 </span>         <span style=\"color: #0000ff; text-decoration-color: #0000ff; text-decoration: underline\">n_id=341182&amp;place_id=7142&amp;only_id=false&amp;order_by=id&amp;</span> <span style=\"color: #7f7f7f; text-decoration-color: #7f7f7f\">              </span>\n",
       "<span style=\"color: #7fbfbf; text-decoration-color: #7fbfbf\">                 </span>         <span style=\"color: #0000ff; text-decoration-color: #0000ff; text-decoration: underline\">order=asc&amp;per_page=200</span>                               <span style=\"color: #7f7f7f; text-decoration-color: #7f7f7f\">              </span>\n",
       "<span style=\"color: #7fbfbf; text-decoration-color: #7fbfbf\">                 </span>         User-Agent: python-requests/<span style=\"color: #008080; text-decoration-color: #008080; font-weight: bold\">2.25</span>.<span style=\"color: #008080; text-decoration-color: #008080; font-weight: bold\">1</span>                   <span style=\"color: #7f7f7f; text-decoration-color: #7f7f7f\">              </span>\n",
       "<span style=\"color: #7fbfbf; text-decoration-color: #7fbfbf\">                 </span>         pyinaturalist/<span style=\"color: #008080; text-decoration-color: #008080; font-weight: bold\">0.17</span>.<span style=\"color: #008080; text-decoration-color: #008080; font-weight: bold\">2</span>                                 <span style=\"color: #7f7f7f; text-decoration-color: #7f7f7f\">              </span>\n",
       "<span style=\"color: #7fbfbf; text-decoration-color: #7fbfbf\">                 </span>         Accept-Encoding: gzip, deflate                       <span style=\"color: #7f7f7f; text-decoration-color: #7f7f7f\">              </span>\n",
       "<span style=\"color: #7fbfbf; text-decoration-color: #7fbfbf\">                 </span>         Accept: application/json                             <span style=\"color: #7f7f7f; text-decoration-color: #7f7f7f\">              </span>\n",
       "<span style=\"color: #7fbfbf; text-decoration-color: #7fbfbf\">                 </span>         Connection: keep-alive                               <span style=\"color: #7f7f7f; text-decoration-color: #7f7f7f\">              </span>\n",
       "<span style=\"color: #7fbfbf; text-decoration-color: #7fbfbf\">                 </span>                                                              <span style=\"color: #7f7f7f; text-decoration-color: #7f7f7f\">              </span>\n",
       "</pre>\n"
      ],
      "text/plain": [
       "\u001b[2;36m[07-09 06:47:55]\u001b[0m\u001b[2;36m \u001b[0m\u001b[34mINFO    \u001b[0m Request:                                             \u001b]8;id=855158;file:///Users/jferrer/miniconda3/envs/ee/lib/python3.9/site-packages/pyinaturalist/session.py\u001b\\\u001b[2msession.py\u001b[0m\u001b]8;;\u001b\\\u001b[2m:\u001b[0m\u001b]8;id=782012;file:///Users/jferrer/miniconda3/envs/ee/lib/python3.9/site-packages/pyinaturalist/session.py#245\u001b\\\u001b[2m245\u001b[0m\u001b]8;;\u001b\\\n",
       "\u001b[2;36m                 \u001b[0m         \u001b[1;33mGET\u001b[0m \u001b[4;94mhttps://api.inaturalist.org/v1/observations?\u001b[0m\u001b[4;94mtaxo\u001b[0m \u001b[2m              \u001b[0m\n",
       "\u001b[2;36m                 \u001b[0m         \u001b[4;94mn_id\u001b[0m\u001b[4;94m=\u001b[0m\u001b[4;94m341182\u001b[0m\u001b[4;94m&\u001b[0m\u001b[4;94mplace_id\u001b[0m\u001b[4;94m=\u001b[0m\u001b[4;94m7142\u001b[0m\u001b[4;94m&\u001b[0m\u001b[4;94monly_id\u001b[0m\u001b[4;94m=\u001b[0m\u001b[4;94mfalse\u001b[0m\u001b[4;94m&\u001b[0m\u001b[4;94morder_by\u001b[0m\u001b[4;94m=\u001b[0m\u001b[4;94mid\u001b[0m\u001b[4;94m&\u001b[0m \u001b[2m              \u001b[0m\n",
       "\u001b[2;36m                 \u001b[0m         \u001b[4;94morder\u001b[0m\u001b[4;94m=\u001b[0m\u001b[4;94masc\u001b[0m\u001b[4;94m&\u001b[0m\u001b[4;94mper_page\u001b[0m\u001b[4;94m=\u001b[0m\u001b[4;94m200\u001b[0m                               \u001b[2m              \u001b[0m\n",
       "\u001b[2;36m                 \u001b[0m         User-Agent: python-requests/\u001b[1;36m2.25\u001b[0m.\u001b[1;36m1\u001b[0m                   \u001b[2m              \u001b[0m\n",
       "\u001b[2;36m                 \u001b[0m         pyinaturalist/\u001b[1;36m0.17\u001b[0m.\u001b[1;36m2\u001b[0m                                 \u001b[2m              \u001b[0m\n",
       "\u001b[2;36m                 \u001b[0m         Accept-Encoding: gzip, deflate                       \u001b[2m              \u001b[0m\n",
       "\u001b[2;36m                 \u001b[0m         Accept: application/json                             \u001b[2m              \u001b[0m\n",
       "\u001b[2;36m                 \u001b[0m         Connection: keep-alive                               \u001b[2m              \u001b[0m\n",
       "\u001b[2;36m                 \u001b[0m                                                              \u001b[2m              \u001b[0m\n"
      ]
     },
     "metadata": {},
     "output_type": "display_data"
    }
   ],
   "source": [
    "\n",
    "tids = [48039, # Lobelias\n",
    "        68790, # Gorillas\n",
    "        341182 # Dendrosenecio\n",
    "       ]\n",
    "tids = 341182\n",
    "response=get_observations(place_id=7142, taxon_id=tids, page='all')\n",
    "qry_observations = Observation.from_json_list(response)"
   ]
  },
  {
   "cell_type": "code",
   "execution_count": 12,
   "id": "eedbc53f-db5d-4048-8c81-a3e054cf4aae",
   "metadata": {},
   "outputs": [],
   "source": [
    "source = pd.DataFrame(\n",
    "    [\n",
    "        {\n",
    "            'latitude': o.location[0],\n",
    "            'longitude': o.location[1],\n",
    "            'id':o.id,\n",
    "            'url':o.uri,\n",
    "            'place':o.place_guess,\n",
    "            'taxon':o.species_guess,\n",
    "            'iconic_taxon': o.taxon.iconic_taxon_name,\n",
    "            'has_context':None,\n",
    "            'reviewer':None,\n",
    "            'EFG':None,\n",
    "            'confidence':None,\n",
    "            'comment':None,\n",
    "        }\n",
    "        for o in qry_observations\n",
    "        if o.location\n",
    "    ]\n",
    ")"
   ]
  },
  {
   "cell_type": "code",
   "execution_count": 13,
   "id": "a0dc4e07-448c-4eb3-9cd2-621aa50fc670",
   "metadata": {},
   "outputs": [
    {
     "data": {
      "text/html": [
       "<pre style=\"white-space:pre;overflow-x:auto;line-height:normal;font-family:Menlo,'DejaVu Sans Mono',consolas,'Courier New',monospace\"><span style=\"font-weight: bold\">(</span><span style=\"color: #008080; text-decoration-color: #008080; font-weight: bold\">13</span>, <span style=\"color: #008080; text-decoration-color: #008080; font-weight: bold\">12</span><span style=\"font-weight: bold\">)</span>\n",
       "</pre>\n"
      ],
      "text/plain": [
       "\u001b[1m(\u001b[0m\u001b[1;36m13\u001b[0m, \u001b[1;36m12\u001b[0m\u001b[1m)\u001b[0m\n"
      ]
     },
     "metadata": {},
     "output_type": "display_data"
    }
   ],
   "source": [
    "source.shape"
   ]
  },
  {
   "cell_type": "code",
   "execution_count": 16,
   "id": "c01b4333-2966-40c7-a637-21a74e4bd0c8",
   "metadata": {},
   "outputs": [
    {
     "data": {
      "text/html": [
       "<div>\n",
       "<style scoped>\n",
       "    .dataframe tbody tr th:only-of-type {\n",
       "        vertical-align: middle;\n",
       "    }\n",
       "\n",
       "    .dataframe tbody tr th {\n",
       "        vertical-align: top;\n",
       "    }\n",
       "\n",
       "    .dataframe thead th {\n",
       "        text-align: right;\n",
       "    }\n",
       "</style>\n",
       "<table border=\"1\" class=\"dataframe\">\n",
       "  <thead>\n",
       "    <tr style=\"text-align: right;\">\n",
       "      <th></th>\n",
       "      <th>latitude</th>\n",
       "      <th>longitude</th>\n",
       "      <th>id</th>\n",
       "      <th>url</th>\n",
       "      <th>place</th>\n",
       "      <th>taxon</th>\n",
       "      <th>iconic_taxon</th>\n",
       "      <th>has_context</th>\n",
       "      <th>reviewer</th>\n",
       "      <th>EFG</th>\n",
       "      <th>confidence</th>\n",
       "      <th>comment</th>\n",
       "    </tr>\n",
       "  </thead>\n",
       "  <tbody>\n",
       "    <tr>\n",
       "      <th>8</th>\n",
       "      <td>-1.461997</td>\n",
       "      <td>29.488508</td>\n",
       "      <td>99692980</td>\n",
       "      <td>https://www.inaturalist.org/observations/99692980</td>\n",
       "      <td>Musanze, Ruanda</td>\n",
       "      <td>Dendrosenecio erici-rosenii</td>\n",
       "      <td>Plantae</td>\n",
       "      <td>None</td>\n",
       "      <td>None</td>\n",
       "      <td>None</td>\n",
       "      <td>None</td>\n",
       "      <td>None</td>\n",
       "    </tr>\n",
       "    <tr>\n",
       "      <th>9</th>\n",
       "      <td>-1.461967</td>\n",
       "      <td>29.488538</td>\n",
       "      <td>99693416</td>\n",
       "      <td>https://www.inaturalist.org/observations/99693416</td>\n",
       "      <td>Musanze, Ruanda</td>\n",
       "      <td>Dendrosenecio erici-rosenii</td>\n",
       "      <td>Plantae</td>\n",
       "      <td>None</td>\n",
       "      <td>None</td>\n",
       "      <td>None</td>\n",
       "      <td>None</td>\n",
       "      <td>None</td>\n",
       "    </tr>\n",
       "    <tr>\n",
       "      <th>10</th>\n",
       "      <td>-1.461887</td>\n",
       "      <td>29.488573</td>\n",
       "      <td>99693418</td>\n",
       "      <td>https://www.inaturalist.org/observations/99693418</td>\n",
       "      <td>Musanze, Ruanda</td>\n",
       "      <td>Dendrosenecio erici-rosenii</td>\n",
       "      <td>Plantae</td>\n",
       "      <td>None</td>\n",
       "      <td>None</td>\n",
       "      <td>None</td>\n",
       "      <td>None</td>\n",
       "      <td>None</td>\n",
       "    </tr>\n",
       "    <tr>\n",
       "      <th>11</th>\n",
       "      <td>-1.387473</td>\n",
       "      <td>29.647607</td>\n",
       "      <td>106756629</td>\n",
       "      <td>https://www.inaturalist.org/observations/10675...</td>\n",
       "      <td>Musanze, Rwanda</td>\n",
       "      <td>Dendrosenecio</td>\n",
       "      <td>Plantae</td>\n",
       "      <td>None</td>\n",
       "      <td>None</td>\n",
       "      <td>None</td>\n",
       "      <td>None</td>\n",
       "      <td>None</td>\n",
       "    </tr>\n",
       "    <tr>\n",
       "      <th>12</th>\n",
       "      <td>-1.387665</td>\n",
       "      <td>29.648567</td>\n",
       "      <td>106756635</td>\n",
       "      <td>https://www.inaturalist.org/observations/10675...</td>\n",
       "      <td>Volcans, Musanze, Amajyaruguru, Rwanda</td>\n",
       "      <td>Dendrosenecio</td>\n",
       "      <td>Plantae</td>\n",
       "      <td>None</td>\n",
       "      <td>None</td>\n",
       "      <td>None</td>\n",
       "      <td>None</td>\n",
       "      <td>None</td>\n",
       "    </tr>\n",
       "  </tbody>\n",
       "</table>\n",
       "</div>"
      ]
     },
     "execution_count": 16,
     "metadata": {},
     "output_type": "execute_result"
    }
   ],
   "source": [
    "source.tail()"
   ]
  },
  {
   "cell_type": "code",
   "execution_count": 17,
   "id": "1a2d1504-dd41-46e0-843c-964cf4bffabd",
   "metadata": {},
   "outputs": [],
   "source": [
    " # initialize the map and store it in a m object\n",
    "m = folium.Map(location = [-2, 29.5],\n",
    "               zoom_start = 8)"
   ]
  },
  {
   "cell_type": "code",
   "execution_count": 18,
   "id": "6317ad1d-dc51-4571-8ec3-e76b7516382b",
   "metadata": {},
   "outputs": [],
   "source": [
    "locations = source[['latitude', 'longitude']]\n",
    "locationlist = locations.values.tolist()"
   ]
  },
  {
   "cell_type": "code",
   "execution_count": 19,
   "id": "1e1636fc-e217-41f9-a644-4760c837b8db",
   "metadata": {},
   "outputs": [],
   "source": [
    "for point in range(0, len(locationlist)):\n",
    "    context=source['has_context'].iloc[point]\n",
    "    if context is None:\n",
    "        color = 'gray'\n",
    "    elif context is True:\n",
    "        color = 'darkblue'\n",
    "    else:\n",
    "        color = 'lightred'\n",
    "    folium.Marker(locationlist[point], icon=folium.Icon(color=color), popup=popup_html(source,point)).add_to(m)"
   ]
  },
  {
   "cell_type": "code",
   "execution_count": 20,
   "id": "cdb8a0b1-4d79-4f9e-9909-af3bbbaf1ef3",
   "metadata": {},
   "outputs": [
    {
     "data": {
      "text/html": [
       "<div style=\"width:100%;\"><div style=\"position:relative;width:100%;height:0;padding-bottom:60%;\"><span style=\"color:#565656\">Make this Notebook Trusted to load map: File -> Trust Notebook</span><iframe src=\"about:blank\" style=\"position:absolute;width:100%;height:100%;left:0;top:0;border:none !important;\" data-html=%3C%21DOCTYPE%20html%3E%0A%3Chead%3E%20%20%20%20%0A%20%20%20%20%3Cmeta%20http-equiv%3D%22content-type%22%20content%3D%22text/html%3B%20charset%3DUTF-8%22%20/%3E%0A%20%20%20%20%0A%20%20%20%20%20%20%20%20%3Cscript%3E%0A%20%20%20%20%20%20%20%20%20%20%20%20L_NO_TOUCH%20%3D%20false%3B%0A%20%20%20%20%20%20%20%20%20%20%20%20L_DISABLE_3D%20%3D%20false%3B%0A%20%20%20%20%20%20%20%20%3C/script%3E%0A%20%20%20%20%0A%20%20%20%20%3Cstyle%3Ehtml%2C%20body%20%7Bwidth%3A%20100%25%3Bheight%3A%20100%25%3Bmargin%3A%200%3Bpadding%3A%200%3B%7D%3C/style%3E%0A%20%20%20%20%3Cstyle%3E%23map%20%7Bposition%3Aabsolute%3Btop%3A0%3Bbottom%3A0%3Bright%3A0%3Bleft%3A0%3B%7D%3C/style%3E%0A%20%20%20%20%3Cscript%20src%3D%22https%3A//cdn.jsdelivr.net/npm/leaflet%401.6.0/dist/leaflet.js%22%3E%3C/script%3E%0A%20%20%20%20%3Cscript%20src%3D%22https%3A//code.jquery.com/jquery-1.12.4.min.js%22%3E%3C/script%3E%0A%20%20%20%20%3Cscript%20src%3D%22https%3A//maxcdn.bootstrapcdn.com/bootstrap/3.2.0/js/bootstrap.min.js%22%3E%3C/script%3E%0A%20%20%20%20%3Cscript%20src%3D%22https%3A//cdnjs.cloudflare.com/ajax/libs/Leaflet.awesome-markers/2.0.2/leaflet.awesome-markers.js%22%3E%3C/script%3E%0A%20%20%20%20%3Clink%20rel%3D%22stylesheet%22%20href%3D%22https%3A//cdn.jsdelivr.net/npm/leaflet%401.6.0/dist/leaflet.css%22/%3E%0A%20%20%20%20%3Clink%20rel%3D%22stylesheet%22%20href%3D%22https%3A//maxcdn.bootstrapcdn.com/bootstrap/3.2.0/css/bootstrap.min.css%22/%3E%0A%20%20%20%20%3Clink%20rel%3D%22stylesheet%22%20href%3D%22https%3A//maxcdn.bootstrapcdn.com/bootstrap/3.2.0/css/bootstrap-theme.min.css%22/%3E%0A%20%20%20%20%3Clink%20rel%3D%22stylesheet%22%20href%3D%22https%3A//maxcdn.bootstrapcdn.com/font-awesome/4.6.3/css/font-awesome.min.css%22/%3E%0A%20%20%20%20%3Clink%20rel%3D%22stylesheet%22%20href%3D%22https%3A//cdnjs.cloudflare.com/ajax/libs/Leaflet.awesome-markers/2.0.2/leaflet.awesome-markers.css%22/%3E%0A%20%20%20%20%3Clink%20rel%3D%22stylesheet%22%20href%3D%22https%3A//cdn.jsdelivr.net/gh/python-visualization/folium/folium/templates/leaflet.awesome.rotate.min.css%22/%3E%0A%20%20%20%20%0A%20%20%20%20%20%20%20%20%20%20%20%20%3Cmeta%20name%3D%22viewport%22%20content%3D%22width%3Ddevice-width%2C%0A%20%20%20%20%20%20%20%20%20%20%20%20%20%20%20%20initial-scale%3D1.0%2C%20maximum-scale%3D1.0%2C%20user-scalable%3Dno%22%20/%3E%0A%20%20%20%20%20%20%20%20%20%20%20%20%3Cstyle%3E%0A%20%20%20%20%20%20%20%20%20%20%20%20%20%20%20%20%23map_d71ac99f368440ea83c91e52f3f98473%20%7B%0A%20%20%20%20%20%20%20%20%20%20%20%20%20%20%20%20%20%20%20%20position%3A%20relative%3B%0A%20%20%20%20%20%20%20%20%20%20%20%20%20%20%20%20%20%20%20%20width%3A%20100.0%25%3B%0A%20%20%20%20%20%20%20%20%20%20%20%20%20%20%20%20%20%20%20%20height%3A%20100.0%25%3B%0A%20%20%20%20%20%20%20%20%20%20%20%20%20%20%20%20%20%20%20%20left%3A%200.0%25%3B%0A%20%20%20%20%20%20%20%20%20%20%20%20%20%20%20%20%20%20%20%20top%3A%200.0%25%3B%0A%20%20%20%20%20%20%20%20%20%20%20%20%20%20%20%20%7D%0A%20%20%20%20%20%20%20%20%20%20%20%20%3C/style%3E%0A%20%20%20%20%20%20%20%20%0A%3C/head%3E%0A%3Cbody%3E%20%20%20%20%0A%20%20%20%20%0A%20%20%20%20%20%20%20%20%20%20%20%20%3Cdiv%20class%3D%22folium-map%22%20id%3D%22map_d71ac99f368440ea83c91e52f3f98473%22%20%3E%3C/div%3E%0A%20%20%20%20%20%20%20%20%0A%3C/body%3E%0A%3Cscript%3E%20%20%20%20%0A%20%20%20%20%0A%20%20%20%20%20%20%20%20%20%20%20%20var%20map_d71ac99f368440ea83c91e52f3f98473%20%3D%20L.map%28%0A%20%20%20%20%20%20%20%20%20%20%20%20%20%20%20%20%22map_d71ac99f368440ea83c91e52f3f98473%22%2C%0A%20%20%20%20%20%20%20%20%20%20%20%20%20%20%20%20%7B%0A%20%20%20%20%20%20%20%20%20%20%20%20%20%20%20%20%20%20%20%20center%3A%20%5B-2.0%2C%2029.5%5D%2C%0A%20%20%20%20%20%20%20%20%20%20%20%20%20%20%20%20%20%20%20%20crs%3A%20L.CRS.EPSG3857%2C%0A%20%20%20%20%20%20%20%20%20%20%20%20%20%20%20%20%20%20%20%20zoom%3A%208%2C%0A%20%20%20%20%20%20%20%20%20%20%20%20%20%20%20%20%20%20%20%20zoomControl%3A%20true%2C%0A%20%20%20%20%20%20%20%20%20%20%20%20%20%20%20%20%20%20%20%20preferCanvas%3A%20false%2C%0A%20%20%20%20%20%20%20%20%20%20%20%20%20%20%20%20%7D%0A%20%20%20%20%20%20%20%20%20%20%20%20%29%3B%0A%0A%20%20%20%20%20%20%20%20%20%20%20%20%0A%0A%20%20%20%20%20%20%20%20%0A%20%20%20%20%0A%20%20%20%20%20%20%20%20%20%20%20%20var%20tile_layer_7971ade988b94200aac1fa5535bbb034%20%3D%20L.tileLayer%28%0A%20%20%20%20%20%20%20%20%20%20%20%20%20%20%20%20%22https%3A//%7Bs%7D.tile.openstreetmap.org/%7Bz%7D/%7Bx%7D/%7By%7D.png%22%2C%0A%20%20%20%20%20%20%20%20%20%20%20%20%20%20%20%20%7B%22attribution%22%3A%20%22Data%20by%20%5Cu0026copy%3B%20%5Cu003ca%20href%3D%5C%22http%3A//openstreetmap.org%5C%22%5Cu003eOpenStreetMap%5Cu003c/a%5Cu003e%2C%20under%20%5Cu003ca%20href%3D%5C%22http%3A//www.openstreetmap.org/copyright%5C%22%5Cu003eODbL%5Cu003c/a%5Cu003e.%22%2C%20%22detectRetina%22%3A%20false%2C%20%22maxNativeZoom%22%3A%2018%2C%20%22maxZoom%22%3A%2018%2C%20%22minZoom%22%3A%200%2C%20%22noWrap%22%3A%20false%2C%20%22opacity%22%3A%201%2C%20%22subdomains%22%3A%20%22abc%22%2C%20%22tms%22%3A%20false%7D%0A%20%20%20%20%20%20%20%20%20%20%20%20%29.addTo%28map_d71ac99f368440ea83c91e52f3f98473%29%3B%0A%20%20%20%20%20%20%20%20%0A%20%20%20%20%0A%20%20%20%20%20%20%20%20%20%20%20%20var%20marker_09b604c401384400b398cd3430292081%20%3D%20L.marker%28%0A%20%20%20%20%20%20%20%20%20%20%20%20%20%20%20%20%5B-2.0431936371%2C%2029.2628822799%5D%2C%0A%20%20%20%20%20%20%20%20%20%20%20%20%20%20%20%20%7B%7D%0A%20%20%20%20%20%20%20%20%20%20%20%20%29.addTo%28map_d71ac99f368440ea83c91e52f3f98473%29%3B%0A%20%20%20%20%20%20%20%20%0A%20%20%20%20%0A%20%20%20%20%20%20%20%20%20%20%20%20var%20icon_b4e97746742849cc8ac3271da6fa1d9c%20%3D%20L.AwesomeMarkers.icon%28%0A%20%20%20%20%20%20%20%20%20%20%20%20%20%20%20%20%7B%22extraClasses%22%3A%20%22fa-rotate-0%22%2C%20%22icon%22%3A%20%22info-sign%22%2C%20%22iconColor%22%3A%20%22white%22%2C%20%22markerColor%22%3A%20%22gray%22%2C%20%22prefix%22%3A%20%22glyphicon%22%7D%0A%20%20%20%20%20%20%20%20%20%20%20%20%29%3B%0A%20%20%20%20%20%20%20%20%20%20%20%20marker_09b604c401384400b398cd3430292081.setIcon%28icon_b4e97746742849cc8ac3271da6fa1d9c%29%3B%0A%20%20%20%20%20%20%20%20%0A%20%20%20%20%0A%20%20%20%20%20%20%20%20var%20popup_f2b9a3d401de4749b4caeb1d56faa78f%20%3D%20L.popup%28%7B%22maxWidth%22%3A%20%22100%25%22%7D%29%3B%0A%0A%20%20%20%20%20%20%20%20%0A%20%20%20%20%20%20%20%20%20%20%20%20var%20html_6ea95fa2c70c4af49b0a59e22e7f72cb%20%3D%20%24%28%60%3Cdiv%20id%3D%22html_6ea95fa2c70c4af49b0a59e22e7f72cb%22%20style%3D%22width%3A%20100.0%25%3B%20height%3A%20100.0%25%3B%22%3E%3C%21DOCTYPE%20html%3E%20%3Chtml%3E%20%3Chead%3E%20%3Ch4%20style%3D%22margin-bottom%3A10%22%3B%20width%3D%22200px%22%3EDendrosenecio%3C/h4%3E%20%3C/head%3E%20%3Ca%20href%3D%27https%3A//www.inaturalist.org/observations/37351861%27%20target%3D%27inat%27%3EiNat%20page%3C/a%3E%20%20%20%20%20%3Ctable%20style%3D%22height%3A%20126px%3B%20width%3A%20200px%3B%22%3E%20%3Ctbody%3E%20%3Ctr%3E%20%3Ctd%20style%3D%22background-color%3A%20%23a9a7bd%3B%22%3E%3Cspan%20style%3D%22color%3A%20%23ffffff%3B%22%3EPlace%3C/span%3E%3C/td%3E%20%3Ctd%20style%3D%22width%3A%2060%25%3Bbackground-color%3A%20%23d2d0d3%3B%22%3EWestern%20Province%2C%20Rwanda%3C/td%3E%20%3C/tr%3E%20%3Ctr%3E%20%3Ctd%20style%3D%22background-color%3A%20%23a9a7bd%3B%22%3E%3Cspan%20style%3D%22color%3A%20%23ffffff%3B%22%3ETaxon%3C/span%3E%3C/td%3E%20%3Ctd%20style%3D%22width%3A%2060%25%3Bbackground-color%3A%20%23d2d0d3%3B%22%3EDendrosenecio%3C/td%3E%20%3C/tr%3E%20%3C/tbody%3E%20%3C/table%3E%20%3Cspan%3EThis%20observation%20needs%20to%20be%20reviewed%3C/span%3E%20%3C/html%3E%20%3C/div%3E%60%29%5B0%5D%3B%0A%20%20%20%20%20%20%20%20%20%20%20%20popup_f2b9a3d401de4749b4caeb1d56faa78f.setContent%28html_6ea95fa2c70c4af49b0a59e22e7f72cb%29%3B%0A%20%20%20%20%20%20%20%20%0A%0A%20%20%20%20%20%20%20%20marker_09b604c401384400b398cd3430292081.bindPopup%28popup_f2b9a3d401de4749b4caeb1d56faa78f%29%0A%20%20%20%20%20%20%20%20%3B%0A%0A%20%20%20%20%20%20%20%20%0A%20%20%20%20%0A%20%20%20%20%0A%20%20%20%20%20%20%20%20%20%20%20%20var%20marker_2f341ecae93943d4ab6d825a4465b413%20%3D%20L.marker%28%0A%20%20%20%20%20%20%20%20%20%20%20%20%20%20%20%20%5B-1.5106148637%2C%2029.4441566939%5D%2C%0A%20%20%20%20%20%20%20%20%20%20%20%20%20%20%20%20%7B%7D%0A%20%20%20%20%20%20%20%20%20%20%20%20%29.addTo%28map_d71ac99f368440ea83c91e52f3f98473%29%3B%0A%20%20%20%20%20%20%20%20%0A%20%20%20%20%0A%20%20%20%20%20%20%20%20%20%20%20%20var%20icon_a2cb788931d04fe99aabd0b85caabe01%20%3D%20L.AwesomeMarkers.icon%28%0A%20%20%20%20%20%20%20%20%20%20%20%20%20%20%20%20%7B%22extraClasses%22%3A%20%22fa-rotate-0%22%2C%20%22icon%22%3A%20%22info-sign%22%2C%20%22iconColor%22%3A%20%22white%22%2C%20%22markerColor%22%3A%20%22gray%22%2C%20%22prefix%22%3A%20%22glyphicon%22%7D%0A%20%20%20%20%20%20%20%20%20%20%20%20%29%3B%0A%20%20%20%20%20%20%20%20%20%20%20%20marker_2f341ecae93943d4ab6d825a4465b413.setIcon%28icon_a2cb788931d04fe99aabd0b85caabe01%29%3B%0A%20%20%20%20%20%20%20%20%0A%20%20%20%20%0A%20%20%20%20%20%20%20%20var%20popup_d50e86dc0cbe4cd582de3603d28ad939%20%3D%20L.popup%28%7B%22maxWidth%22%3A%20%22100%25%22%7D%29%3B%0A%0A%20%20%20%20%20%20%20%20%0A%20%20%20%20%20%20%20%20%20%20%20%20var%20html_c889f19469224528928a3ad686f45257%20%3D%20%24%28%60%3Cdiv%20id%3D%22html_c889f19469224528928a3ad686f45257%22%20style%3D%22width%3A%20100.0%25%3B%20height%3A%20100.0%25%3B%22%3E%3C%21DOCTYPE%20html%3E%20%3Chtml%3E%20%3Chead%3E%20%3Ch4%20style%3D%22margin-bottom%3A10%22%3B%20width%3D%22200px%22%3EDendrosenecio%3C/h4%3E%20%3C/head%3E%20%3Ca%20href%3D%27https%3A//www.inaturalist.org/observations/37351864%27%20target%3D%27inat%27%3EiNat%20page%3C/a%3E%20%20%20%20%20%3Ctable%20style%3D%22height%3A%20126px%3B%20width%3A%20200px%3B%22%3E%20%3Ctbody%3E%20%3Ctr%3E%20%3Ctd%20style%3D%22background-color%3A%20%23a9a7bd%3B%22%3E%3Cspan%20style%3D%22color%3A%20%23ffffff%3B%22%3EPlace%3C/span%3E%3C/td%3E%20%3Ctd%20style%3D%22width%3A%2060%25%3Bbackground-color%3A%20%23d2d0d3%3B%22%3ENyabihu%2C%20Rwanda%3C/td%3E%20%3C/tr%3E%20%3Ctr%3E%20%3Ctd%20style%3D%22background-color%3A%20%23a9a7bd%3B%22%3E%3Cspan%20style%3D%22color%3A%20%23ffffff%3B%22%3ETaxon%3C/span%3E%3C/td%3E%20%3Ctd%20style%3D%22width%3A%2060%25%3Bbackground-color%3A%20%23d2d0d3%3B%22%3EDendrosenecio%3C/td%3E%20%3C/tr%3E%20%3C/tbody%3E%20%3C/table%3E%20%3Cspan%3EThis%20observation%20needs%20to%20be%20reviewed%3C/span%3E%20%3C/html%3E%20%3C/div%3E%60%29%5B0%5D%3B%0A%20%20%20%20%20%20%20%20%20%20%20%20popup_d50e86dc0cbe4cd582de3603d28ad939.setContent%28html_c889f19469224528928a3ad686f45257%29%3B%0A%20%20%20%20%20%20%20%20%0A%0A%20%20%20%20%20%20%20%20marker_2f341ecae93943d4ab6d825a4465b413.bindPopup%28popup_d50e86dc0cbe4cd582de3603d28ad939%29%0A%20%20%20%20%20%20%20%20%3B%0A%0A%20%20%20%20%20%20%20%20%0A%20%20%20%20%0A%20%20%20%20%0A%20%20%20%20%20%20%20%20%20%20%20%20var%20marker_38a002e6cf4f4400a9748a128da0fbc2%20%3D%20L.marker%28%0A%20%20%20%20%20%20%20%20%20%20%20%20%20%20%20%20%5B-1.4611116667%2C%2029.4888883333%5D%2C%0A%20%20%20%20%20%20%20%20%20%20%20%20%20%20%20%20%7B%7D%0A%20%20%20%20%20%20%20%20%20%20%20%20%29.addTo%28map_d71ac99f368440ea83c91e52f3f98473%29%3B%0A%20%20%20%20%20%20%20%20%0A%20%20%20%20%0A%20%20%20%20%20%20%20%20%20%20%20%20var%20icon_e2313ac5c2784a4db6828d5a9f24d614%20%3D%20L.AwesomeMarkers.icon%28%0A%20%20%20%20%20%20%20%20%20%20%20%20%20%20%20%20%7B%22extraClasses%22%3A%20%22fa-rotate-0%22%2C%20%22icon%22%3A%20%22info-sign%22%2C%20%22iconColor%22%3A%20%22white%22%2C%20%22markerColor%22%3A%20%22gray%22%2C%20%22prefix%22%3A%20%22glyphicon%22%7D%0A%20%20%20%20%20%20%20%20%20%20%20%20%29%3B%0A%20%20%20%20%20%20%20%20%20%20%20%20marker_38a002e6cf4f4400a9748a128da0fbc2.setIcon%28icon_e2313ac5c2784a4db6828d5a9f24d614%29%3B%0A%20%20%20%20%20%20%20%20%0A%20%20%20%20%0A%20%20%20%20%20%20%20%20var%20popup_16286b9599cf4deb90b84b572013d57e%20%3D%20L.popup%28%7B%22maxWidth%22%3A%20%22100%25%22%7D%29%3B%0A%0A%20%20%20%20%20%20%20%20%0A%20%20%20%20%20%20%20%20%20%20%20%20var%20html_bb40ac864bb3456aa1beb38aea922b2e%20%3D%20%24%28%60%3Cdiv%20id%3D%22html_bb40ac864bb3456aa1beb38aea922b2e%22%20style%3D%22width%3A%20100.0%25%3B%20height%3A%20100.0%25%3B%22%3E%3C%21DOCTYPE%20html%3E%20%3Chtml%3E%20%3Chead%3E%20%3Ch4%20style%3D%22margin-bottom%3A10%22%3B%20width%3D%22200px%22%3EDendrosenecio%20erici-rosenii%20alticola%3C/h4%3E%20%3C/head%3E%20%3Ca%20href%3D%27https%3A//www.inaturalist.org/observations/41715091%27%20target%3D%27inat%27%3EiNat%20page%3C/a%3E%20%20%20%20%20%3Ctable%20style%3D%22height%3A%20126px%3B%20width%3A%20200px%3B%22%3E%20%3Ctbody%3E%20%3Ctr%3E%20%3Ctd%20style%3D%22background-color%3A%20%23a9a7bd%3B%22%3E%3Cspan%20style%3D%22color%3A%20%23ffffff%3B%22%3EPlace%3C/span%3E%3C/td%3E%20%3Ctd%20style%3D%22width%3A%2060%25%3Bbackground-color%3A%20%23d2d0d3%3B%22%3EMusanze%2C%20Rwanda%3C/td%3E%20%3C/tr%3E%20%3Ctr%3E%20%3Ctd%20style%3D%22background-color%3A%20%23a9a7bd%3B%22%3E%3Cspan%20style%3D%22color%3A%20%23ffffff%3B%22%3ETaxon%3C/span%3E%3C/td%3E%20%3Ctd%20style%3D%22width%3A%2060%25%3Bbackground-color%3A%20%23d2d0d3%3B%22%3EDendrosenecio%20erici-rosenii%20alticola%3C/td%3E%20%3C/tr%3E%20%3C/tbody%3E%20%3C/table%3E%20%3Cspan%3EThis%20observation%20needs%20to%20be%20reviewed%3C/span%3E%20%3C/html%3E%20%3C/div%3E%60%29%5B0%5D%3B%0A%20%20%20%20%20%20%20%20%20%20%20%20popup_16286b9599cf4deb90b84b572013d57e.setContent%28html_bb40ac864bb3456aa1beb38aea922b2e%29%3B%0A%20%20%20%20%20%20%20%20%0A%0A%20%20%20%20%20%20%20%20marker_38a002e6cf4f4400a9748a128da0fbc2.bindPopup%28popup_16286b9599cf4deb90b84b572013d57e%29%0A%20%20%20%20%20%20%20%20%3B%0A%0A%20%20%20%20%20%20%20%20%0A%20%20%20%20%0A%20%20%20%20%0A%20%20%20%20%20%20%20%20%20%20%20%20var%20marker_46576ce25a0a49dc96224b1618811fa9%20%3D%20L.marker%28%0A%20%20%20%20%20%20%20%20%20%20%20%20%20%20%20%20%5B-1.4619072021%2C%2029.4930487111%5D%2C%0A%20%20%20%20%20%20%20%20%20%20%20%20%20%20%20%20%7B%7D%0A%20%20%20%20%20%20%20%20%20%20%20%20%29.addTo%28map_d71ac99f368440ea83c91e52f3f98473%29%3B%0A%20%20%20%20%20%20%20%20%0A%20%20%20%20%0A%20%20%20%20%20%20%20%20%20%20%20%20var%20icon_41f056b8d46a44b6ad008a7f0798d2b4%20%3D%20L.AwesomeMarkers.icon%28%0A%20%20%20%20%20%20%20%20%20%20%20%20%20%20%20%20%7B%22extraClasses%22%3A%20%22fa-rotate-0%22%2C%20%22icon%22%3A%20%22info-sign%22%2C%20%22iconColor%22%3A%20%22white%22%2C%20%22markerColor%22%3A%20%22gray%22%2C%20%22prefix%22%3A%20%22glyphicon%22%7D%0A%20%20%20%20%20%20%20%20%20%20%20%20%29%3B%0A%20%20%20%20%20%20%20%20%20%20%20%20marker_46576ce25a0a49dc96224b1618811fa9.setIcon%28icon_41f056b8d46a44b6ad008a7f0798d2b4%29%3B%0A%20%20%20%20%20%20%20%20%0A%20%20%20%20%0A%20%20%20%20%20%20%20%20var%20popup_a0b941534fa847cca58929cfe5775427%20%3D%20L.popup%28%7B%22maxWidth%22%3A%20%22100%25%22%7D%29%3B%0A%0A%20%20%20%20%20%20%20%20%0A%20%20%20%20%20%20%20%20%20%20%20%20var%20html_72543aa33bb8415ebde102bea24d68ed%20%3D%20%24%28%60%3Cdiv%20id%3D%22html_72543aa33bb8415ebde102bea24d68ed%22%20style%3D%22width%3A%20100.0%25%3B%20height%3A%20100.0%25%3B%22%3E%3C%21DOCTYPE%20html%3E%20%3Chtml%3E%20%3Chead%3E%20%3Ch4%20style%3D%22margin-bottom%3A10%22%3B%20width%3D%22200px%22%3EDendrosenecio%20erici-rosenii%3C/h4%3E%20%3C/head%3E%20%3Ca%20href%3D%27https%3A//www.inaturalist.org/observations/99690134%27%20target%3D%27inat%27%3EiNat%20page%3C/a%3E%20%20%20%20%20%3Ctable%20style%3D%22height%3A%20126px%3B%20width%3A%20200px%3B%22%3E%20%3Ctbody%3E%20%3Ctr%3E%20%3Ctd%20style%3D%22background-color%3A%20%23a9a7bd%3B%22%3E%3Cspan%20style%3D%22color%3A%20%23ffffff%3B%22%3EPlace%3C/span%3E%3C/td%3E%20%3Ctd%20style%3D%22width%3A%2060%25%3Bbackground-color%3A%20%23d2d0d3%3B%22%3EMusanze%2C%20Ruanda%3C/td%3E%20%3C/tr%3E%20%3Ctr%3E%20%3Ctd%20style%3D%22background-color%3A%20%23a9a7bd%3B%22%3E%3Cspan%20style%3D%22color%3A%20%23ffffff%3B%22%3ETaxon%3C/span%3E%3C/td%3E%20%3Ctd%20style%3D%22width%3A%2060%25%3Bbackground-color%3A%20%23d2d0d3%3B%22%3EDendrosenecio%20erici-rosenii%3C/td%3E%20%3C/tr%3E%20%3C/tbody%3E%20%3C/table%3E%20%3Cspan%3EThis%20observation%20needs%20to%20be%20reviewed%3C/span%3E%20%3C/html%3E%20%3C/div%3E%60%29%5B0%5D%3B%0A%20%20%20%20%20%20%20%20%20%20%20%20popup_a0b941534fa847cca58929cfe5775427.setContent%28html_72543aa33bb8415ebde102bea24d68ed%29%3B%0A%20%20%20%20%20%20%20%20%0A%0A%20%20%20%20%20%20%20%20marker_46576ce25a0a49dc96224b1618811fa9.bindPopup%28popup_a0b941534fa847cca58929cfe5775427%29%0A%20%20%20%20%20%20%20%20%3B%0A%0A%20%20%20%20%20%20%20%20%0A%20%20%20%20%0A%20%20%20%20%0A%20%20%20%20%20%20%20%20%20%20%20%20var%20marker_a86ffba969cf4af38512c65bf4b20356%20%3D%20L.marker%28%0A%20%20%20%20%20%20%20%20%20%20%20%20%20%20%20%20%5B-1.4619072021%2C%2029.4930487111%5D%2C%0A%20%20%20%20%20%20%20%20%20%20%20%20%20%20%20%20%7B%7D%0A%20%20%20%20%20%20%20%20%20%20%20%20%29.addTo%28map_d71ac99f368440ea83c91e52f3f98473%29%3B%0A%20%20%20%20%20%20%20%20%0A%20%20%20%20%0A%20%20%20%20%20%20%20%20%20%20%20%20var%20icon_fb995b9540bd4c11adac779eb94b50da%20%3D%20L.AwesomeMarkers.icon%28%0A%20%20%20%20%20%20%20%20%20%20%20%20%20%20%20%20%7B%22extraClasses%22%3A%20%22fa-rotate-0%22%2C%20%22icon%22%3A%20%22info-sign%22%2C%20%22iconColor%22%3A%20%22white%22%2C%20%22markerColor%22%3A%20%22gray%22%2C%20%22prefix%22%3A%20%22glyphicon%22%7D%0A%20%20%20%20%20%20%20%20%20%20%20%20%29%3B%0A%20%20%20%20%20%20%20%20%20%20%20%20marker_a86ffba969cf4af38512c65bf4b20356.setIcon%28icon_fb995b9540bd4c11adac779eb94b50da%29%3B%0A%20%20%20%20%20%20%20%20%0A%20%20%20%20%0A%20%20%20%20%20%20%20%20var%20popup_f2b875277524425e858f2f8395b1966a%20%3D%20L.popup%28%7B%22maxWidth%22%3A%20%22100%25%22%7D%29%3B%0A%0A%20%20%20%20%20%20%20%20%0A%20%20%20%20%20%20%20%20%20%20%20%20var%20html_cf18c28bc02443a3adeae5e39b918412%20%3D%20%24%28%60%3Cdiv%20id%3D%22html_cf18c28bc02443a3adeae5e39b918412%22%20style%3D%22width%3A%20100.0%25%3B%20height%3A%20100.0%25%3B%22%3E%3C%21DOCTYPE%20html%3E%20%3Chtml%3E%20%3Chead%3E%20%3Ch4%20style%3D%22margin-bottom%3A10%22%3B%20width%3D%22200px%22%3EDendrosenecio%3C/h4%3E%20%3C/head%3E%20%3Ca%20href%3D%27https%3A//www.inaturalist.org/observations/99690151%27%20target%3D%27inat%27%3EiNat%20page%3C/a%3E%20%20%20%20%20%3Ctable%20style%3D%22height%3A%20126px%3B%20width%3A%20200px%3B%22%3E%20%3Ctbody%3E%20%3Ctr%3E%20%3Ctd%20style%3D%22background-color%3A%20%23a9a7bd%3B%22%3E%3Cspan%20style%3D%22color%3A%20%23ffffff%3B%22%3EPlace%3C/span%3E%3C/td%3E%20%3Ctd%20style%3D%22width%3A%2060%25%3Bbackground-color%3A%20%23d2d0d3%3B%22%3EMusanze%2C%20Ruanda%3C/td%3E%20%3C/tr%3E%20%3Ctr%3E%20%3Ctd%20style%3D%22background-color%3A%20%23a9a7bd%3B%22%3E%3Cspan%20style%3D%22color%3A%20%23ffffff%3B%22%3ETaxon%3C/span%3E%3C/td%3E%20%3Ctd%20style%3D%22width%3A%2060%25%3Bbackground-color%3A%20%23d2d0d3%3B%22%3EDendrosenecio%3C/td%3E%20%3C/tr%3E%20%3C/tbody%3E%20%3C/table%3E%20%3Cspan%3EThis%20observation%20needs%20to%20be%20reviewed%3C/span%3E%20%3C/html%3E%20%3C/div%3E%60%29%5B0%5D%3B%0A%20%20%20%20%20%20%20%20%20%20%20%20popup_f2b875277524425e858f2f8395b1966a.setContent%28html_cf18c28bc02443a3adeae5e39b918412%29%3B%0A%20%20%20%20%20%20%20%20%0A%0A%20%20%20%20%20%20%20%20marker_a86ffba969cf4af38512c65bf4b20356.bindPopup%28popup_f2b875277524425e858f2f8395b1966a%29%0A%20%20%20%20%20%20%20%20%3B%0A%0A%20%20%20%20%20%20%20%20%0A%20%20%20%20%0A%20%20%20%20%0A%20%20%20%20%20%20%20%20%20%20%20%20var%20marker_732312ed41f84df19df3f47b4336fe59%20%3D%20L.marker%28%0A%20%20%20%20%20%20%20%20%20%20%20%20%20%20%20%20%5B-1.4616005591%2C%2029.4902231967%5D%2C%0A%20%20%20%20%20%20%20%20%20%20%20%20%20%20%20%20%7B%7D%0A%20%20%20%20%20%20%20%20%20%20%20%20%29.addTo%28map_d71ac99f368440ea83c91e52f3f98473%29%3B%0A%20%20%20%20%20%20%20%20%0A%20%20%20%20%0A%20%20%20%20%20%20%20%20%20%20%20%20var%20icon_ec14a5f1ec8a45cc961123c109088f98%20%3D%20L.AwesomeMarkers.icon%28%0A%20%20%20%20%20%20%20%20%20%20%20%20%20%20%20%20%7B%22extraClasses%22%3A%20%22fa-rotate-0%22%2C%20%22icon%22%3A%20%22info-sign%22%2C%20%22iconColor%22%3A%20%22white%22%2C%20%22markerColor%22%3A%20%22gray%22%2C%20%22prefix%22%3A%20%22glyphicon%22%7D%0A%20%20%20%20%20%20%20%20%20%20%20%20%29%3B%0A%20%20%20%20%20%20%20%20%20%20%20%20marker_732312ed41f84df19df3f47b4336fe59.setIcon%28icon_ec14a5f1ec8a45cc961123c109088f98%29%3B%0A%20%20%20%20%20%20%20%20%0A%20%20%20%20%0A%20%20%20%20%20%20%20%20var%20popup_5c0106373d1d48da8a8c9785c622ec08%20%3D%20L.popup%28%7B%22maxWidth%22%3A%20%22100%25%22%7D%29%3B%0A%0A%20%20%20%20%20%20%20%20%0A%20%20%20%20%20%20%20%20%20%20%20%20var%20html_6b55ae4b93b549b8b8d18f179e3073ae%20%3D%20%24%28%60%3Cdiv%20id%3D%22html_6b55ae4b93b549b8b8d18f179e3073ae%22%20style%3D%22width%3A%20100.0%25%3B%20height%3A%20100.0%25%3B%22%3E%3C%21DOCTYPE%20html%3E%20%3Chtml%3E%20%3Chead%3E%20%3Ch4%20style%3D%22margin-bottom%3A10%22%3B%20width%3D%22200px%22%3EDendrosenecio%20erici-rosenii%3C/h4%3E%20%3C/head%3E%20%3Ca%20href%3D%27https%3A//www.inaturalist.org/observations/99692592%27%20target%3D%27inat%27%3EiNat%20page%3C/a%3E%20%20%20%20%20%3Ctable%20style%3D%22height%3A%20126px%3B%20width%3A%20200px%3B%22%3E%20%3Ctbody%3E%20%3Ctr%3E%20%3Ctd%20style%3D%22background-color%3A%20%23a9a7bd%3B%22%3E%3Cspan%20style%3D%22color%3A%20%23ffffff%3B%22%3EPlace%3C/span%3E%3C/td%3E%20%3Ctd%20style%3D%22width%3A%2060%25%3Bbackground-color%3A%20%23d2d0d3%3B%22%3EMusanze%2C%20Ruanda%3C/td%3E%20%3C/tr%3E%20%3Ctr%3E%20%3Ctd%20style%3D%22background-color%3A%20%23a9a7bd%3B%22%3E%3Cspan%20style%3D%22color%3A%20%23ffffff%3B%22%3ETaxon%3C/span%3E%3C/td%3E%20%3Ctd%20style%3D%22width%3A%2060%25%3Bbackground-color%3A%20%23d2d0d3%3B%22%3EDendrosenecio%20erici-rosenii%3C/td%3E%20%3C/tr%3E%20%3C/tbody%3E%20%3C/table%3E%20%3Cspan%3EThis%20observation%20needs%20to%20be%20reviewed%3C/span%3E%20%3C/html%3E%20%3C/div%3E%60%29%5B0%5D%3B%0A%20%20%20%20%20%20%20%20%20%20%20%20popup_5c0106373d1d48da8a8c9785c622ec08.setContent%28html_6b55ae4b93b549b8b8d18f179e3073ae%29%3B%0A%20%20%20%20%20%20%20%20%0A%0A%20%20%20%20%20%20%20%20marker_732312ed41f84df19df3f47b4336fe59.bindPopup%28popup_5c0106373d1d48da8a8c9785c622ec08%29%0A%20%20%20%20%20%20%20%20%3B%0A%0A%20%20%20%20%20%20%20%20%0A%20%20%20%20%0A%20%20%20%20%0A%20%20%20%20%20%20%20%20%20%20%20%20var%20marker_fd637607fcdd40e1b1c5eb03630d7a10%20%3D%20L.marker%28%0A%20%20%20%20%20%20%20%20%20%20%20%20%20%20%20%20%5B-1.461929817%2C%2029.4884959566%5D%2C%0A%20%20%20%20%20%20%20%20%20%20%20%20%20%20%20%20%7B%7D%0A%20%20%20%20%20%20%20%20%20%20%20%20%29.addTo%28map_d71ac99f368440ea83c91e52f3f98473%29%3B%0A%20%20%20%20%20%20%20%20%0A%20%20%20%20%0A%20%20%20%20%20%20%20%20%20%20%20%20var%20icon_5d517351763f48dd830b2c57e11cca04%20%3D%20L.AwesomeMarkers.icon%28%0A%20%20%20%20%20%20%20%20%20%20%20%20%20%20%20%20%7B%22extraClasses%22%3A%20%22fa-rotate-0%22%2C%20%22icon%22%3A%20%22info-sign%22%2C%20%22iconColor%22%3A%20%22white%22%2C%20%22markerColor%22%3A%20%22gray%22%2C%20%22prefix%22%3A%20%22glyphicon%22%7D%0A%20%20%20%20%20%20%20%20%20%20%20%20%29%3B%0A%20%20%20%20%20%20%20%20%20%20%20%20marker_fd637607fcdd40e1b1c5eb03630d7a10.setIcon%28icon_5d517351763f48dd830b2c57e11cca04%29%3B%0A%20%20%20%20%20%20%20%20%0A%20%20%20%20%0A%20%20%20%20%20%20%20%20var%20popup_d6a9b9fe894045c29b7207f7a6bba323%20%3D%20L.popup%28%7B%22maxWidth%22%3A%20%22100%25%22%7D%29%3B%0A%0A%20%20%20%20%20%20%20%20%0A%20%20%20%20%20%20%20%20%20%20%20%20var%20html_8732c8676b25463e9c44b46c949b4a90%20%3D%20%24%28%60%3Cdiv%20id%3D%22html_8732c8676b25463e9c44b46c949b4a90%22%20style%3D%22width%3A%20100.0%25%3B%20height%3A%20100.0%25%3B%22%3E%3C%21DOCTYPE%20html%3E%20%3Chtml%3E%20%3Chead%3E%20%3Ch4%20style%3D%22margin-bottom%3A10%22%3B%20width%3D%22200px%22%3EDendrosenecio%20erici-rosenii%3C/h4%3E%20%3C/head%3E%20%3Ca%20href%3D%27https%3A//www.inaturalist.org/observations/99692968%27%20target%3D%27inat%27%3EiNat%20page%3C/a%3E%20%20%20%20%20%3Ctable%20style%3D%22height%3A%20126px%3B%20width%3A%20200px%3B%22%3E%20%3Ctbody%3E%20%3Ctr%3E%20%3Ctd%20style%3D%22background-color%3A%20%23a9a7bd%3B%22%3E%3Cspan%20style%3D%22color%3A%20%23ffffff%3B%22%3EPlace%3C/span%3E%3C/td%3E%20%3Ctd%20style%3D%22width%3A%2060%25%3Bbackground-color%3A%20%23d2d0d3%3B%22%3EMusanze%2C%20Ruanda%3C/td%3E%20%3C/tr%3E%20%3Ctr%3E%20%3Ctd%20style%3D%22background-color%3A%20%23a9a7bd%3B%22%3E%3Cspan%20style%3D%22color%3A%20%23ffffff%3B%22%3ETaxon%3C/span%3E%3C/td%3E%20%3Ctd%20style%3D%22width%3A%2060%25%3Bbackground-color%3A%20%23d2d0d3%3B%22%3EDendrosenecio%20erici-rosenii%3C/td%3E%20%3C/tr%3E%20%3C/tbody%3E%20%3C/table%3E%20%3Cspan%3EThis%20observation%20needs%20to%20be%20reviewed%3C/span%3E%20%3C/html%3E%20%3C/div%3E%60%29%5B0%5D%3B%0A%20%20%20%20%20%20%20%20%20%20%20%20popup_d6a9b9fe894045c29b7207f7a6bba323.setContent%28html_8732c8676b25463e9c44b46c949b4a90%29%3B%0A%20%20%20%20%20%20%20%20%0A%0A%20%20%20%20%20%20%20%20marker_fd637607fcdd40e1b1c5eb03630d7a10.bindPopup%28popup_d6a9b9fe894045c29b7207f7a6bba323%29%0A%20%20%20%20%20%20%20%20%3B%0A%0A%20%20%20%20%20%20%20%20%0A%20%20%20%20%0A%20%20%20%20%0A%20%20%20%20%20%20%20%20%20%20%20%20var%20marker_fb8b88d750174e299c02352c275ca0ff%20%3D%20L.marker%28%0A%20%20%20%20%20%20%20%20%20%20%20%20%20%20%20%20%5B-1.4618883333%2C%2029.4884683333%5D%2C%0A%20%20%20%20%20%20%20%20%20%20%20%20%20%20%20%20%7B%7D%0A%20%20%20%20%20%20%20%20%20%20%20%20%29.addTo%28map_d71ac99f368440ea83c91e52f3f98473%29%3B%0A%20%20%20%20%20%20%20%20%0A%20%20%20%20%0A%20%20%20%20%20%20%20%20%20%20%20%20var%20icon_6eedb66431264243bbb36446ed7a538c%20%3D%20L.AwesomeMarkers.icon%28%0A%20%20%20%20%20%20%20%20%20%20%20%20%20%20%20%20%7B%22extraClasses%22%3A%20%22fa-rotate-0%22%2C%20%22icon%22%3A%20%22info-sign%22%2C%20%22iconColor%22%3A%20%22white%22%2C%20%22markerColor%22%3A%20%22gray%22%2C%20%22prefix%22%3A%20%22glyphicon%22%7D%0A%20%20%20%20%20%20%20%20%20%20%20%20%29%3B%0A%20%20%20%20%20%20%20%20%20%20%20%20marker_fb8b88d750174e299c02352c275ca0ff.setIcon%28icon_6eedb66431264243bbb36446ed7a538c%29%3B%0A%20%20%20%20%20%20%20%20%0A%20%20%20%20%0A%20%20%20%20%20%20%20%20var%20popup_708dd7cbbe5e4e37b9a370fac48e392e%20%3D%20L.popup%28%7B%22maxWidth%22%3A%20%22100%25%22%7D%29%3B%0A%0A%20%20%20%20%20%20%20%20%0A%20%20%20%20%20%20%20%20%20%20%20%20var%20html_aa9c21b7780e40dc942db8d61642c3b0%20%3D%20%24%28%60%3Cdiv%20id%3D%22html_aa9c21b7780e40dc942db8d61642c3b0%22%20style%3D%22width%3A%20100.0%25%3B%20height%3A%20100.0%25%3B%22%3E%3C%21DOCTYPE%20html%3E%20%3Chtml%3E%20%3Chead%3E%20%3Ch4%20style%3D%22margin-bottom%3A10%22%3B%20width%3D%22200px%22%3EDendrosenecio%20erici-rosenii%3C/h4%3E%20%3C/head%3E%20%3Ca%20href%3D%27https%3A//www.inaturalist.org/observations/99692977%27%20target%3D%27inat%27%3EiNat%20page%3C/a%3E%20%20%20%20%20%3Ctable%20style%3D%22height%3A%20126px%3B%20width%3A%20200px%3B%22%3E%20%3Ctbody%3E%20%3Ctr%3E%20%3Ctd%20style%3D%22background-color%3A%20%23a9a7bd%3B%22%3E%3Cspan%20style%3D%22color%3A%20%23ffffff%3B%22%3EPlace%3C/span%3E%3C/td%3E%20%3Ctd%20style%3D%22width%3A%2060%25%3Bbackground-color%3A%20%23d2d0d3%3B%22%3EMusanze%2C%20Ruanda%3C/td%3E%20%3C/tr%3E%20%3Ctr%3E%20%3Ctd%20style%3D%22background-color%3A%20%23a9a7bd%3B%22%3E%3Cspan%20style%3D%22color%3A%20%23ffffff%3B%22%3ETaxon%3C/span%3E%3C/td%3E%20%3Ctd%20style%3D%22width%3A%2060%25%3Bbackground-color%3A%20%23d2d0d3%3B%22%3EDendrosenecio%20erici-rosenii%3C/td%3E%20%3C/tr%3E%20%3C/tbody%3E%20%3C/table%3E%20%3Cspan%3EThis%20observation%20needs%20to%20be%20reviewed%3C/span%3E%20%3C/html%3E%20%3C/div%3E%60%29%5B0%5D%3B%0A%20%20%20%20%20%20%20%20%20%20%20%20popup_708dd7cbbe5e4e37b9a370fac48e392e.setContent%28html_aa9c21b7780e40dc942db8d61642c3b0%29%3B%0A%20%20%20%20%20%20%20%20%0A%0A%20%20%20%20%20%20%20%20marker_fb8b88d750174e299c02352c275ca0ff.bindPopup%28popup_708dd7cbbe5e4e37b9a370fac48e392e%29%0A%20%20%20%20%20%20%20%20%3B%0A%0A%20%20%20%20%20%20%20%20%0A%20%20%20%20%0A%20%20%20%20%0A%20%20%20%20%20%20%20%20%20%20%20%20var%20marker_4507429e3d23465aaeb8e381cf5bf88f%20%3D%20L.marker%28%0A%20%20%20%20%20%20%20%20%20%20%20%20%20%20%20%20%5B-1.4619966667%2C%2029.4885083333%5D%2C%0A%20%20%20%20%20%20%20%20%20%20%20%20%20%20%20%20%7B%7D%0A%20%20%20%20%20%20%20%20%20%20%20%20%29.addTo%28map_d71ac99f368440ea83c91e52f3f98473%29%3B%0A%20%20%20%20%20%20%20%20%0A%20%20%20%20%0A%20%20%20%20%20%20%20%20%20%20%20%20var%20icon_9df86f96dc834bf49ac0a5fe221c2b2a%20%3D%20L.AwesomeMarkers.icon%28%0A%20%20%20%20%20%20%20%20%20%20%20%20%20%20%20%20%7B%22extraClasses%22%3A%20%22fa-rotate-0%22%2C%20%22icon%22%3A%20%22info-sign%22%2C%20%22iconColor%22%3A%20%22white%22%2C%20%22markerColor%22%3A%20%22gray%22%2C%20%22prefix%22%3A%20%22glyphicon%22%7D%0A%20%20%20%20%20%20%20%20%20%20%20%20%29%3B%0A%20%20%20%20%20%20%20%20%20%20%20%20marker_4507429e3d23465aaeb8e381cf5bf88f.setIcon%28icon_9df86f96dc834bf49ac0a5fe221c2b2a%29%3B%0A%20%20%20%20%20%20%20%20%0A%20%20%20%20%0A%20%20%20%20%20%20%20%20var%20popup_6412aaa92ba543219beea86bdde3efca%20%3D%20L.popup%28%7B%22maxWidth%22%3A%20%22100%25%22%7D%29%3B%0A%0A%20%20%20%20%20%20%20%20%0A%20%20%20%20%20%20%20%20%20%20%20%20var%20html_e2ac8dca8b8a45d4b797814050c7cec0%20%3D%20%24%28%60%3Cdiv%20id%3D%22html_e2ac8dca8b8a45d4b797814050c7cec0%22%20style%3D%22width%3A%20100.0%25%3B%20height%3A%20100.0%25%3B%22%3E%3C%21DOCTYPE%20html%3E%20%3Chtml%3E%20%3Chead%3E%20%3Ch4%20style%3D%22margin-bottom%3A10%22%3B%20width%3D%22200px%22%3EDendrosenecio%20erici-rosenii%3C/h4%3E%20%3C/head%3E%20%3Ca%20href%3D%27https%3A//www.inaturalist.org/observations/99692980%27%20target%3D%27inat%27%3EiNat%20page%3C/a%3E%20%20%20%20%20%3Ctable%20style%3D%22height%3A%20126px%3B%20width%3A%20200px%3B%22%3E%20%3Ctbody%3E%20%3Ctr%3E%20%3Ctd%20style%3D%22background-color%3A%20%23a9a7bd%3B%22%3E%3Cspan%20style%3D%22color%3A%20%23ffffff%3B%22%3EPlace%3C/span%3E%3C/td%3E%20%3Ctd%20style%3D%22width%3A%2060%25%3Bbackground-color%3A%20%23d2d0d3%3B%22%3EMusanze%2C%20Ruanda%3C/td%3E%20%3C/tr%3E%20%3Ctr%3E%20%3Ctd%20style%3D%22background-color%3A%20%23a9a7bd%3B%22%3E%3Cspan%20style%3D%22color%3A%20%23ffffff%3B%22%3ETaxon%3C/span%3E%3C/td%3E%20%3Ctd%20style%3D%22width%3A%2060%25%3Bbackground-color%3A%20%23d2d0d3%3B%22%3EDendrosenecio%20erici-rosenii%3C/td%3E%20%3C/tr%3E%20%3C/tbody%3E%20%3C/table%3E%20%3Cspan%3EThis%20observation%20needs%20to%20be%20reviewed%3C/span%3E%20%3C/html%3E%20%3C/div%3E%60%29%5B0%5D%3B%0A%20%20%20%20%20%20%20%20%20%20%20%20popup_6412aaa92ba543219beea86bdde3efca.setContent%28html_e2ac8dca8b8a45d4b797814050c7cec0%29%3B%0A%20%20%20%20%20%20%20%20%0A%0A%20%20%20%20%20%20%20%20marker_4507429e3d23465aaeb8e381cf5bf88f.bindPopup%28popup_6412aaa92ba543219beea86bdde3efca%29%0A%20%20%20%20%20%20%20%20%3B%0A%0A%20%20%20%20%20%20%20%20%0A%20%20%20%20%0A%20%20%20%20%0A%20%20%20%20%20%20%20%20%20%20%20%20var%20marker_44df56067f214961a0e8a3daf3c24caf%20%3D%20L.marker%28%0A%20%20%20%20%20%20%20%20%20%20%20%20%20%20%20%20%5B-1.4619666667%2C%2029.4885383333%5D%2C%0A%20%20%20%20%20%20%20%20%20%20%20%20%20%20%20%20%7B%7D%0A%20%20%20%20%20%20%20%20%20%20%20%20%29.addTo%28map_d71ac99f368440ea83c91e52f3f98473%29%3B%0A%20%20%20%20%20%20%20%20%0A%20%20%20%20%0A%20%20%20%20%20%20%20%20%20%20%20%20var%20icon_923b71129c5d4413a71c79c537bc1833%20%3D%20L.AwesomeMarkers.icon%28%0A%20%20%20%20%20%20%20%20%20%20%20%20%20%20%20%20%7B%22extraClasses%22%3A%20%22fa-rotate-0%22%2C%20%22icon%22%3A%20%22info-sign%22%2C%20%22iconColor%22%3A%20%22white%22%2C%20%22markerColor%22%3A%20%22gray%22%2C%20%22prefix%22%3A%20%22glyphicon%22%7D%0A%20%20%20%20%20%20%20%20%20%20%20%20%29%3B%0A%20%20%20%20%20%20%20%20%20%20%20%20marker_44df56067f214961a0e8a3daf3c24caf.setIcon%28icon_923b71129c5d4413a71c79c537bc1833%29%3B%0A%20%20%20%20%20%20%20%20%0A%20%20%20%20%0A%20%20%20%20%20%20%20%20var%20popup_148c2425ffca4e218cfce57fbf0bdb10%20%3D%20L.popup%28%7B%22maxWidth%22%3A%20%22100%25%22%7D%29%3B%0A%0A%20%20%20%20%20%20%20%20%0A%20%20%20%20%20%20%20%20%20%20%20%20var%20html_6fedbe497e504ffab5a1c72c8de0f773%20%3D%20%24%28%60%3Cdiv%20id%3D%22html_6fedbe497e504ffab5a1c72c8de0f773%22%20style%3D%22width%3A%20100.0%25%3B%20height%3A%20100.0%25%3B%22%3E%3C%21DOCTYPE%20html%3E%20%3Chtml%3E%20%3Chead%3E%20%3Ch4%20style%3D%22margin-bottom%3A10%22%3B%20width%3D%22200px%22%3EDendrosenecio%20erici-rosenii%3C/h4%3E%20%3C/head%3E%20%3Ca%20href%3D%27https%3A//www.inaturalist.org/observations/99693416%27%20target%3D%27inat%27%3EiNat%20page%3C/a%3E%20%20%20%20%20%3Ctable%20style%3D%22height%3A%20126px%3B%20width%3A%20200px%3B%22%3E%20%3Ctbody%3E%20%3Ctr%3E%20%3Ctd%20style%3D%22background-color%3A%20%23a9a7bd%3B%22%3E%3Cspan%20style%3D%22color%3A%20%23ffffff%3B%22%3EPlace%3C/span%3E%3C/td%3E%20%3Ctd%20style%3D%22width%3A%2060%25%3Bbackground-color%3A%20%23d2d0d3%3B%22%3EMusanze%2C%20Ruanda%3C/td%3E%20%3C/tr%3E%20%3Ctr%3E%20%3Ctd%20style%3D%22background-color%3A%20%23a9a7bd%3B%22%3E%3Cspan%20style%3D%22color%3A%20%23ffffff%3B%22%3ETaxon%3C/span%3E%3C/td%3E%20%3Ctd%20style%3D%22width%3A%2060%25%3Bbackground-color%3A%20%23d2d0d3%3B%22%3EDendrosenecio%20erici-rosenii%3C/td%3E%20%3C/tr%3E%20%3C/tbody%3E%20%3C/table%3E%20%3Cspan%3EThis%20observation%20needs%20to%20be%20reviewed%3C/span%3E%20%3C/html%3E%20%3C/div%3E%60%29%5B0%5D%3B%0A%20%20%20%20%20%20%20%20%20%20%20%20popup_148c2425ffca4e218cfce57fbf0bdb10.setContent%28html_6fedbe497e504ffab5a1c72c8de0f773%29%3B%0A%20%20%20%20%20%20%20%20%0A%0A%20%20%20%20%20%20%20%20marker_44df56067f214961a0e8a3daf3c24caf.bindPopup%28popup_148c2425ffca4e218cfce57fbf0bdb10%29%0A%20%20%20%20%20%20%20%20%3B%0A%0A%20%20%20%20%20%20%20%20%0A%20%20%20%20%0A%20%20%20%20%0A%20%20%20%20%20%20%20%20%20%20%20%20var%20marker_021c9d6bfb5440419174bedb930f8508%20%3D%20L.marker%28%0A%20%20%20%20%20%20%20%20%20%20%20%20%20%20%20%20%5B-1.4618866667%2C%2029.4885733333%5D%2C%0A%20%20%20%20%20%20%20%20%20%20%20%20%20%20%20%20%7B%7D%0A%20%20%20%20%20%20%20%20%20%20%20%20%29.addTo%28map_d71ac99f368440ea83c91e52f3f98473%29%3B%0A%20%20%20%20%20%20%20%20%0A%20%20%20%20%0A%20%20%20%20%20%20%20%20%20%20%20%20var%20icon_ca8fe48d70f44b39a3b0e8dab034a3e0%20%3D%20L.AwesomeMarkers.icon%28%0A%20%20%20%20%20%20%20%20%20%20%20%20%20%20%20%20%7B%22extraClasses%22%3A%20%22fa-rotate-0%22%2C%20%22icon%22%3A%20%22info-sign%22%2C%20%22iconColor%22%3A%20%22white%22%2C%20%22markerColor%22%3A%20%22gray%22%2C%20%22prefix%22%3A%20%22glyphicon%22%7D%0A%20%20%20%20%20%20%20%20%20%20%20%20%29%3B%0A%20%20%20%20%20%20%20%20%20%20%20%20marker_021c9d6bfb5440419174bedb930f8508.setIcon%28icon_ca8fe48d70f44b39a3b0e8dab034a3e0%29%3B%0A%20%20%20%20%20%20%20%20%0A%20%20%20%20%0A%20%20%20%20%20%20%20%20var%20popup_e87d9b7410df42c395427da426841b2f%20%3D%20L.popup%28%7B%22maxWidth%22%3A%20%22100%25%22%7D%29%3B%0A%0A%20%20%20%20%20%20%20%20%0A%20%20%20%20%20%20%20%20%20%20%20%20var%20html_4af71b2e17e345aeb165aed257ee1bd1%20%3D%20%24%28%60%3Cdiv%20id%3D%22html_4af71b2e17e345aeb165aed257ee1bd1%22%20style%3D%22width%3A%20100.0%25%3B%20height%3A%20100.0%25%3B%22%3E%3C%21DOCTYPE%20html%3E%20%3Chtml%3E%20%3Chead%3E%20%3Ch4%20style%3D%22margin-bottom%3A10%22%3B%20width%3D%22200px%22%3EDendrosenecio%20erici-rosenii%3C/h4%3E%20%3C/head%3E%20%3Ca%20href%3D%27https%3A//www.inaturalist.org/observations/99693418%27%20target%3D%27inat%27%3EiNat%20page%3C/a%3E%20%20%20%20%20%3Ctable%20style%3D%22height%3A%20126px%3B%20width%3A%20200px%3B%22%3E%20%3Ctbody%3E%20%3Ctr%3E%20%3Ctd%20style%3D%22background-color%3A%20%23a9a7bd%3B%22%3E%3Cspan%20style%3D%22color%3A%20%23ffffff%3B%22%3EPlace%3C/span%3E%3C/td%3E%20%3Ctd%20style%3D%22width%3A%2060%25%3Bbackground-color%3A%20%23d2d0d3%3B%22%3EMusanze%2C%20Ruanda%3C/td%3E%20%3C/tr%3E%20%3Ctr%3E%20%3Ctd%20style%3D%22background-color%3A%20%23a9a7bd%3B%22%3E%3Cspan%20style%3D%22color%3A%20%23ffffff%3B%22%3ETaxon%3C/span%3E%3C/td%3E%20%3Ctd%20style%3D%22width%3A%2060%25%3Bbackground-color%3A%20%23d2d0d3%3B%22%3EDendrosenecio%20erici-rosenii%3C/td%3E%20%3C/tr%3E%20%3C/tbody%3E%20%3C/table%3E%20%3Cspan%3EThis%20observation%20needs%20to%20be%20reviewed%3C/span%3E%20%3C/html%3E%20%3C/div%3E%60%29%5B0%5D%3B%0A%20%20%20%20%20%20%20%20%20%20%20%20popup_e87d9b7410df42c395427da426841b2f.setContent%28html_4af71b2e17e345aeb165aed257ee1bd1%29%3B%0A%20%20%20%20%20%20%20%20%0A%0A%20%20%20%20%20%20%20%20marker_021c9d6bfb5440419174bedb930f8508.bindPopup%28popup_e87d9b7410df42c395427da426841b2f%29%0A%20%20%20%20%20%20%20%20%3B%0A%0A%20%20%20%20%20%20%20%20%0A%20%20%20%20%0A%20%20%20%20%0A%20%20%20%20%20%20%20%20%20%20%20%20var%20marker_1bfa1cd9899443b58989348427554b98%20%3D%20L.marker%28%0A%20%20%20%20%20%20%20%20%20%20%20%20%20%20%20%20%5B-1.3874732778%2C%2029.6476068056%5D%2C%0A%20%20%20%20%20%20%20%20%20%20%20%20%20%20%20%20%7B%7D%0A%20%20%20%20%20%20%20%20%20%20%20%20%29.addTo%28map_d71ac99f368440ea83c91e52f3f98473%29%3B%0A%20%20%20%20%20%20%20%20%0A%20%20%20%20%0A%20%20%20%20%20%20%20%20%20%20%20%20var%20icon_c573724d49d74ef9b90fbbed169264d4%20%3D%20L.AwesomeMarkers.icon%28%0A%20%20%20%20%20%20%20%20%20%20%20%20%20%20%20%20%7B%22extraClasses%22%3A%20%22fa-rotate-0%22%2C%20%22icon%22%3A%20%22info-sign%22%2C%20%22iconColor%22%3A%20%22white%22%2C%20%22markerColor%22%3A%20%22gray%22%2C%20%22prefix%22%3A%20%22glyphicon%22%7D%0A%20%20%20%20%20%20%20%20%20%20%20%20%29%3B%0A%20%20%20%20%20%20%20%20%20%20%20%20marker_1bfa1cd9899443b58989348427554b98.setIcon%28icon_c573724d49d74ef9b90fbbed169264d4%29%3B%0A%20%20%20%20%20%20%20%20%0A%20%20%20%20%0A%20%20%20%20%20%20%20%20var%20popup_1772eb12d94546e29b33ae78e4b504de%20%3D%20L.popup%28%7B%22maxWidth%22%3A%20%22100%25%22%7D%29%3B%0A%0A%20%20%20%20%20%20%20%20%0A%20%20%20%20%20%20%20%20%20%20%20%20var%20html_bf3cd06985e1449fab7bb4b208078772%20%3D%20%24%28%60%3Cdiv%20id%3D%22html_bf3cd06985e1449fab7bb4b208078772%22%20style%3D%22width%3A%20100.0%25%3B%20height%3A%20100.0%25%3B%22%3E%3C%21DOCTYPE%20html%3E%20%3Chtml%3E%20%3Chead%3E%20%3Ch4%20style%3D%22margin-bottom%3A10%22%3B%20width%3D%22200px%22%3EDendrosenecio%3C/h4%3E%20%3C/head%3E%20%3Ca%20href%3D%27https%3A//www.inaturalist.org/observations/106756629%27%20target%3D%27inat%27%3EiNat%20page%3C/a%3E%20%20%20%20%20%3Ctable%20style%3D%22height%3A%20126px%3B%20width%3A%20200px%3B%22%3E%20%3Ctbody%3E%20%3Ctr%3E%20%3Ctd%20style%3D%22background-color%3A%20%23a9a7bd%3B%22%3E%3Cspan%20style%3D%22color%3A%20%23ffffff%3B%22%3EPlace%3C/span%3E%3C/td%3E%20%3Ctd%20style%3D%22width%3A%2060%25%3Bbackground-color%3A%20%23d2d0d3%3B%22%3EMusanze%2C%20Rwanda%3C/td%3E%20%3C/tr%3E%20%3Ctr%3E%20%3Ctd%20style%3D%22background-color%3A%20%23a9a7bd%3B%22%3E%3Cspan%20style%3D%22color%3A%20%23ffffff%3B%22%3ETaxon%3C/span%3E%3C/td%3E%20%3Ctd%20style%3D%22width%3A%2060%25%3Bbackground-color%3A%20%23d2d0d3%3B%22%3EDendrosenecio%3C/td%3E%20%3C/tr%3E%20%3C/tbody%3E%20%3C/table%3E%20%3Cspan%3EThis%20observation%20needs%20to%20be%20reviewed%3C/span%3E%20%3C/html%3E%20%3C/div%3E%60%29%5B0%5D%3B%0A%20%20%20%20%20%20%20%20%20%20%20%20popup_1772eb12d94546e29b33ae78e4b504de.setContent%28html_bf3cd06985e1449fab7bb4b208078772%29%3B%0A%20%20%20%20%20%20%20%20%0A%0A%20%20%20%20%20%20%20%20marker_1bfa1cd9899443b58989348427554b98.bindPopup%28popup_1772eb12d94546e29b33ae78e4b504de%29%0A%20%20%20%20%20%20%20%20%3B%0A%0A%20%20%20%20%20%20%20%20%0A%20%20%20%20%0A%20%20%20%20%0A%20%20%20%20%20%20%20%20%20%20%20%20var%20marker_f5076e3d9f3641a28ffebcccc5c2a2e2%20%3D%20L.marker%28%0A%20%20%20%20%20%20%20%20%20%20%20%20%20%20%20%20%5B-1.3876648611%2C%2029.6485669722%5D%2C%0A%20%20%20%20%20%20%20%20%20%20%20%20%20%20%20%20%7B%7D%0A%20%20%20%20%20%20%20%20%20%20%20%20%29.addTo%28map_d71ac99f368440ea83c91e52f3f98473%29%3B%0A%20%20%20%20%20%20%20%20%0A%20%20%20%20%0A%20%20%20%20%20%20%20%20%20%20%20%20var%20icon_9bc01bed994e4376b87edc55243fcfa2%20%3D%20L.AwesomeMarkers.icon%28%0A%20%20%20%20%20%20%20%20%20%20%20%20%20%20%20%20%7B%22extraClasses%22%3A%20%22fa-rotate-0%22%2C%20%22icon%22%3A%20%22info-sign%22%2C%20%22iconColor%22%3A%20%22white%22%2C%20%22markerColor%22%3A%20%22gray%22%2C%20%22prefix%22%3A%20%22glyphicon%22%7D%0A%20%20%20%20%20%20%20%20%20%20%20%20%29%3B%0A%20%20%20%20%20%20%20%20%20%20%20%20marker_f5076e3d9f3641a28ffebcccc5c2a2e2.setIcon%28icon_9bc01bed994e4376b87edc55243fcfa2%29%3B%0A%20%20%20%20%20%20%20%20%0A%20%20%20%20%0A%20%20%20%20%20%20%20%20var%20popup_f52eb33f568741dd8253ca277f926804%20%3D%20L.popup%28%7B%22maxWidth%22%3A%20%22100%25%22%7D%29%3B%0A%0A%20%20%20%20%20%20%20%20%0A%20%20%20%20%20%20%20%20%20%20%20%20var%20html_fd2c2791cac7429ab47ee887fd18df31%20%3D%20%24%28%60%3Cdiv%20id%3D%22html_fd2c2791cac7429ab47ee887fd18df31%22%20style%3D%22width%3A%20100.0%25%3B%20height%3A%20100.0%25%3B%22%3E%3C%21DOCTYPE%20html%3E%20%3Chtml%3E%20%3Chead%3E%20%3Ch4%20style%3D%22margin-bottom%3A10%22%3B%20width%3D%22200px%22%3EDendrosenecio%3C/h4%3E%20%3C/head%3E%20%3Ca%20href%3D%27https%3A//www.inaturalist.org/observations/106756635%27%20target%3D%27inat%27%3EiNat%20page%3C/a%3E%20%20%20%20%20%3Ctable%20style%3D%22height%3A%20126px%3B%20width%3A%20200px%3B%22%3E%20%3Ctbody%3E%20%3Ctr%3E%20%3Ctd%20style%3D%22background-color%3A%20%23a9a7bd%3B%22%3E%3Cspan%20style%3D%22color%3A%20%23ffffff%3B%22%3EPlace%3C/span%3E%3C/td%3E%20%3Ctd%20style%3D%22width%3A%2060%25%3Bbackground-color%3A%20%23d2d0d3%3B%22%3EVolcans%2C%20Musanze%2C%20Amajyaruguru%2C%20Rwanda%3C/td%3E%20%3C/tr%3E%20%3Ctr%3E%20%3Ctd%20style%3D%22background-color%3A%20%23a9a7bd%3B%22%3E%3Cspan%20style%3D%22color%3A%20%23ffffff%3B%22%3ETaxon%3C/span%3E%3C/td%3E%20%3Ctd%20style%3D%22width%3A%2060%25%3Bbackground-color%3A%20%23d2d0d3%3B%22%3EDendrosenecio%3C/td%3E%20%3C/tr%3E%20%3C/tbody%3E%20%3C/table%3E%20%3Cspan%3EThis%20observation%20needs%20to%20be%20reviewed%3C/span%3E%20%3C/html%3E%20%3C/div%3E%60%29%5B0%5D%3B%0A%20%20%20%20%20%20%20%20%20%20%20%20popup_f52eb33f568741dd8253ca277f926804.setContent%28html_fd2c2791cac7429ab47ee887fd18df31%29%3B%0A%20%20%20%20%20%20%20%20%0A%0A%20%20%20%20%20%20%20%20marker_f5076e3d9f3641a28ffebcccc5c2a2e2.bindPopup%28popup_f52eb33f568741dd8253ca277f926804%29%0A%20%20%20%20%20%20%20%20%3B%0A%0A%20%20%20%20%20%20%20%20%0A%20%20%20%20%0A%3C/script%3E onload=\"this.contentDocument.open();this.contentDocument.write(    decodeURIComponent(this.getAttribute('data-html')));this.contentDocument.close();\" allowfullscreen webkitallowfullscreen mozallowfullscreen></iframe></div></div>"
      ]
     },
     "execution_count": 20,
     "metadata": {},
     "output_type": "execute_result"
    }
   ],
   "source": [
    "m"
   ]
  },
  {
   "cell_type": "code",
   "execution_count": null,
   "id": "465a0e97-de4c-411e-a000-2e651a7039cd",
   "metadata": {},
   "outputs": [],
   "source": [
    "def evaluateContext(rid,context=None,validcoords=None):\n",
    "    if context is None:\n",
    "        input(...)"
   ]
  }
 ],
 "metadata": {
  "kernelspec": {
   "display_name": "Python 3",
   "language": "python",
   "name": "python3"
  },
  "language_info": {
   "codemirror_mode": {
    "name": "ipython",
    "version": 3
   },
   "file_extension": ".py",
   "mimetype": "text/x-python",
   "name": "python",
   "nbconvert_exporter": "python",
   "pygments_lexer": "ipython3",
   "version": "3.9.6"
  }
 },
 "nbformat": 4,
 "nbformat_minor": 5
}
