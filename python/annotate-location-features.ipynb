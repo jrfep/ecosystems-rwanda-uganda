{
 "cells": [
  {
   "cell_type": "markdown",
   "id": "08926647-4b83-4a68-80e6-7ac981328294",
   "metadata": {},
   "source": [
    "# Annotate ecosystem observations\n",
    "Two ways:\n",
    "- Using existing repositories inat existing information is unstructure, requires additional information from experts/user\n",
    "- structured approach to capture new records. Flexibility: quick input of minimal observation, but allow more detailed input from users\n"
   ]
  },
  {
   "cell_type": "markdown",
   "id": "0e6cf799-95c4-4237-bd66-331e19458cff",
   "metadata": {},
   "source": [
    "First filter geographic (100km radius...) and thematic (realm/biome) \n",
    "\n",
    "request list of potential EFG from database (call to lambda function?)\n",
    "\n",
    "We are in Rwanda so let's get the list of potential ecosystems from https://global-ecosystems.org/analyse?regionId=ADM_122,"
   ]
  },
  {
   "cell_type": "code",
   "execution_count": 2,
   "id": "7639361e-ed81-4cc5-9b41-6056a7f04d0d",
   "metadata": {},
   "outputs": [],
   "source": [
    "import pandas as pd\n",
    "potential_ecos = pd.read_csv(\"~/Desktop/Rwanda-July-2022/data/rle-query-results_20220613_1655105198171.csv\")"
   ]
  },
  {
   "cell_type": "code",
   "execution_count": 46,
   "id": "8eb63a6f-01c1-41ce-9e3e-a4c484f786f8",
   "metadata": {},
   "outputs": [],
   "source": [
    "biomes_avail = potential_ecos[['Realm ID','Biome ID','Biome']].drop_duplicates()"
   ]
  },
  {
   "cell_type": "code",
   "execution_count": 47,
   "id": "edec6ddc-a057-4ed0-aad2-7c17fc965a94",
   "metadata": {},
   "outputs": [],
   "source": [
    "def biome_selection(avail): \n",
    "    selected=list()\n",
    "    print(\"These are the potential realms and biomes potentially present at your location\")\n",
    "    print(avail)\n",
    "\n",
    "    while True:\n",
    "\n",
    "        res = input(\"Select one Biome ID to add to the list, or a Realm ID to select multiple biomes .\\n Select X to finish \")\n",
    "\n",
    "        if res in avail['Biome ID'].values:\n",
    "            selected.append(res)\n",
    "            print(\"You added %s, your list is now %s\" % (res,\"; \".join(selected)))\n",
    "        if res in avail['Realm ID'].values:\n",
    "            biomes=avail.loc[avail['Realm ID']==res]['Biome ID'].values.tolist()\n",
    "            selected.extend(biomes)\n",
    "            print(\"You added all biomes matching Realm ID %s, your list is now %s\" % (res,\"; \".join(selected)))\n",
    "\n",
    "        elif res == \"X\":\n",
    "            if len(selected)>0:\n",
    "                print(\"Your final selection is %s\" % (\";\".join(selected)))\n",
    "            print(\"Let's go to the next question\")\n",
    "            return(selected)\n",
    "            break\n",
    "        else:\n",
    "            print(\"Did not understand the response, try again.\")\n",
    "        "
   ]
  },
  {
   "cell_type": "code",
   "execution_count": 48,
   "id": "c1f66b94-9a61-4c5f-97df-604939c58407",
   "metadata": {},
   "outputs": [
    {
     "name": "stdout",
     "output_type": "stream",
     "text": [
      "These are the potential realms and biomes potentially present at your location\n",
      "   Realm ID Biome ID                                   Biome\n",
      "0         F       F1                Rivers and streams biome\n",
      "3         F       F2                             Lakes biome\n",
      "5         F       F3               Artificial wetlands biome\n",
      "8         S       S1               Subterranean lithic biome\n",
      "10        S       S2  Anthropogenic subterranean voids biome\n",
      "11        T       T1      Tropical-subtropical forests biome\n",
      "12        T       T3  Shrublands and shrubby woodlands biome\n",
      "13        T       T4           Savannas and grasslands biome\n",
      "14        T       T6          Polar/alpine (cryogenic) biome\n",
      "15        T       T7                Intensive land-use biome\n",
      "20       SF      SF1          Subterranean freshwaters biome\n",
      "21       TF      TF1               Palustrine wetlands biome\n"
     ]
    },
    {
     "name": "stdin",
     "output_type": "stream",
     "text": [
      "Select one Biome ID to add to the list, or a Realm ID to select multiple biomes .\n",
      " Select X to finish  T\n"
     ]
    },
    {
     "name": "stdout",
     "output_type": "stream",
     "text": [
      "You added all biomes matching Realm ID T, your list is now T1; T3; T4; T6; T7\n"
     ]
    },
    {
     "name": "stdin",
     "output_type": "stream",
     "text": [
      "Select one Biome ID to add to the list, or a Realm ID to select multiple biomes .\n",
      " Select X to finish  X\n"
     ]
    },
    {
     "name": "stdout",
     "output_type": "stream",
     "text": [
      "Your final selection is T1;T3;T4;T6;T7\n",
      "Let's go to the next question\n"
     ]
    }
   ],
   "source": [
    "biomes_selected=biome_selection(biomes_avail)\n"
   ]
  },
  {
   "cell_type": "code",
   "execution_count": 72,
   "id": "266ee165-80b9-463e-a3f7-6be6aa4f174d",
   "metadata": {},
   "outputs": [],
   "source": [
    "def efg_selection(potential,biomes):\n",
    "    avail=potential[potential['Biome ID'].isin(biomes)][['ID','Group']]\n",
    "    discard=list()\n",
    "    print(\"These are the ecosystem functional groups potentially present at your location\")\n",
    "    print(avail)\n",
    "\n",
    "    while True:\n",
    "        res = input(\"Select one ID to remove from the list.\\n Select X to finish \")\n",
    "        if res in avail['ID'].values:\n",
    "            discard.append(res)\n",
    "            print(\"You want to remove %s, your list of ecosystems to remove is now %s\" % (res,\"; \".join(discard)))\n",
    "        elif res == \"X\":\n",
    "            if len(discard)>0:\n",
    "                x=avail['ID'].values\n",
    "                selected=x[x not in discard]\n",
    "                print(\"Your final selection is %s\" % (\";\".join(selected)))\n",
    "            print(\"Let's go to the next question\")\n",
    "            return(selected)\n",
    "            break\n",
    "        else:\n",
    "            print(\"Did not understand the response, try again.\")\n",
    "        "
   ]
  },
  {
   "cell_type": "code",
   "execution_count": 73,
   "id": "6ed23861-2ddb-4e48-a1d9-439fba5be1e1",
   "metadata": {},
   "outputs": [
    {
     "name": "stdout",
     "output_type": "stream",
     "text": [
      "These are the ecosystem functional groups potentially present at your location\n",
      "      ID                                         Group\n",
      "11  T1.3      Tropical/Subtropical montane rainforests\n",
      "12  T3.4  Young rocky pavements, lava flows and screes\n",
      "13  T4.1                              Trophic savannas\n",
      "14  T6.5     Tropical alpine grasslands and herbfields\n",
      "15  T7.1                              Annual croplands\n",
      "16  T7.2                      Sown pastures and fields\n",
      "17  T7.3                                   Plantations\n",
      "18  T7.4               Urban and industrial ecosystems\n",
      "19  T7.5  Derived semi-natural pastures and old fields\n"
     ]
    },
    {
     "name": "stdin",
     "output_type": "stream",
     "text": [
      "Select one ID to remove from the list.\n",
      " Select X to finish  T7.4\n"
     ]
    },
    {
     "name": "stdout",
     "output_type": "stream",
     "text": [
      "You want to remove T7.4, your list of ecosystems to remove is now T7.4\n"
     ]
    },
    {
     "name": "stdin",
     "output_type": "stream",
     "text": [
      "Select one ID to remove from the list.\n",
      " Select X to finish  X\n"
     ]
    },
    {
     "ename": "ValueError",
     "evalue": "The truth value of an array with more than one element is ambiguous. Use a.any() or a.all()",
     "output_type": "error",
     "traceback": [
      "\u001b[0;31m---------------------------------------------------------------------------\u001b[0m",
      "\u001b[0;31mValueError\u001b[0m                                Traceback (most recent call last)",
      "Input \u001b[0;32mIn [73]\u001b[0m, in \u001b[0;36m<cell line: 1>\u001b[0;34m()\u001b[0m\n\u001b[0;32m----> 1\u001b[0m efg_selected\u001b[38;5;241m=\u001b[39m\u001b[43mefg_selection\u001b[49m\u001b[43m(\u001b[49m\u001b[43mpotential_ecos\u001b[49m\u001b[43m,\u001b[49m\u001b[43mbiomes_selected\u001b[49m\u001b[43m)\u001b[49m\n",
      "Input \u001b[0;32mIn [72]\u001b[0m, in \u001b[0;36mefg_selection\u001b[0;34m(potential, biomes)\u001b[0m\n\u001b[1;32m     13\u001b[0m \u001b[38;5;28;01mif\u001b[39;00m \u001b[38;5;28mlen\u001b[39m(discard)\u001b[38;5;241m>\u001b[39m\u001b[38;5;241m0\u001b[39m:\n\u001b[1;32m     14\u001b[0m     x\u001b[38;5;241m=\u001b[39mavail[\u001b[38;5;124m'\u001b[39m\u001b[38;5;124mID\u001b[39m\u001b[38;5;124m'\u001b[39m]\u001b[38;5;241m.\u001b[39mvalues\n\u001b[0;32m---> 15\u001b[0m     selected\u001b[38;5;241m=\u001b[39mx[\u001b[43mx\u001b[49m\u001b[43m \u001b[49m\u001b[38;5;129;43;01mnot\u001b[39;49;00m\u001b[43m \u001b[49m\u001b[38;5;129;43;01min\u001b[39;49;00m\u001b[43m \u001b[49m\u001b[43mdiscard\u001b[49m]\n\u001b[1;32m     16\u001b[0m     \u001b[38;5;28mprint\u001b[39m(\u001b[38;5;124m\"\u001b[39m\u001b[38;5;124mYour final selection is \u001b[39m\u001b[38;5;132;01m%s\u001b[39;00m\u001b[38;5;124m\"\u001b[39m \u001b[38;5;241m%\u001b[39m (\u001b[38;5;124m\"\u001b[39m\u001b[38;5;124m;\u001b[39m\u001b[38;5;124m\"\u001b[39m\u001b[38;5;241m.\u001b[39mjoin(selected)))\n\u001b[1;32m     17\u001b[0m \u001b[38;5;28mprint\u001b[39m(\u001b[38;5;124m\"\u001b[39m\u001b[38;5;124mLet\u001b[39m\u001b[38;5;124m'\u001b[39m\u001b[38;5;124ms go to the next question\u001b[39m\u001b[38;5;124m\"\u001b[39m)\n",
      "\u001b[0;31mValueError\u001b[0m: The truth value of an array with more than one element is ambiguous. Use a.any() or a.all()"
     ]
    }
   ],
   "source": [
    "efg_selected=efg_selection(potential_ecos,biomes_selected)\n"
   ]
  },
  {
   "cell_type": "code",
   "execution_count": 71,
   "id": "ebc7110b-903a-4b10-aa82-58f37b29d99f",
   "metadata": {},
   "outputs": [
    {
     "data": {
      "text/plain": [
       "['T7.4']"
      ]
     },
     "execution_count": 71,
     "metadata": {},
     "output_type": "execute_result"
    }
   ],
   "source": [
    "efg_selected"
   ]
  },
  {
   "cell_type": "code",
   "execution_count": 43,
   "id": "21f85ab6-db6a-4c94-9077-3ca7dad082df",
   "metadata": {},
   "outputs": [
    {
     "data": {
      "text/plain": [
       "['T1', 'T3', 'T4', 'T6', 'T7']"
      ]
     },
     "execution_count": 43,
     "metadata": {},
     "output_type": "execute_result"
    }
   ],
   "source": [
    "biomes_avail.loc[biomes_avail['Realm ID']=='T']['Biome ID'].values.tolist()"
   ]
  },
  {
   "cell_type": "code",
   "execution_count": 66,
   "id": "6e2b9d4c-92c8-4109-a000-a972b283a941",
   "metadata": {},
   "outputs": [
    {
     "data": {
      "text/plain": [
       "True"
      ]
     },
     "execution_count": 66,
     "metadata": {},
     "output_type": "execute_result"
    }
   ],
   "source": [
    "any(potential_ecos['ID'].isin(['T1.3']))"
   ]
  },
  {
   "cell_type": "markdown",
   "id": "ef57a653-4eb0-4251-b0ea-378a01992726",
   "metadata": {},
   "source": [
    "## Checklist of features\n",
    "\n",
    "We can create a function to allow user to select features from a list to narrow down candidates. \n",
    "\n",
    "We will use a nested structure to work on this list:"
   ]
  },
  {
   "cell_type": "code",
   "execution_count": 33,
   "id": "a9d85f1d-6aa2-4fba-b4bc-715efedb2c8e",
   "metadata": {},
   "outputs": [],
   "source": [
    "FeatureGroups={'Vegetation structure':list(),\n",
    "               'Animal traits':list(),\n",
    "               'Plant traits':list(),\n",
    "               'Landscape features':list(),\n",
    "               'Human activity':list()}"
   ]
  },
  {
   "cell_type": "markdown",
   "id": "37d2e58c-b786-4542-b980-45aa649fe69d",
   "metadata": {},
   "source": [
    "This are the questions and answers for Vegetation structure"
   ]
  },
  {
   "cell_type": "code",
   "execution_count": 46,
   "id": "44f94760-5c82-47bd-8eaa-5b0e04130d96",
   "metadata": {},
   "outputs": [],
   "source": [
    "FeatureGroups['Vegetation structure']=[{'question':'Dominant growth form (excluding scattered emergent plants)',\n",
    "        'options':['Tree','Shrub','Herb','Grass','Moss or lichen']},\n",
    "        {'question':'Cover of dominant vegetation layer (exclude emergents)',\n",
    "        'options':['Dense (>50%)','Open(30-50%)','Sparse(10-30%)','Very sparse (<10%)']},\n",
    "        {'question':'Tree canopy height',\n",
    "        'options':['Very tall (<40m)','Tall (30-40m)','Medium(10-30m)','Low(2-10m)','Very low (<2m)']},\n",
    "        {'question':'Cover of bare ground (no vegetation, no litter)',\n",
    "        'options':['Most(>50%)','Common (25-50%)','Limited(<25%)']}]"
   ]
  },
  {
   "cell_type": "markdown",
   "id": "c47e91b2-7a40-4764-9cec-1ac68e28f3a7",
   "metadata": {},
   "source": [
    "This are the questions and answers for Human activity"
   ]
  },
  {
   "cell_type": "code",
   "execution_count": 47,
   "id": "4d258c2d-2de8-41c0-af18-e199dff30753",
   "metadata": {},
   "outputs": [],
   "source": [
    "FeatureGroups['Human activity']=[{'question':'Cultivated crops (<2 yr rotation)',\n",
    "        'options':['Dominant','Conspicuous but not dominant','Not common']},\n",
    "{'question':'Artificial pastures',\n",
    "        'options':['Dominant','Conspicuous but not dominant','Not common']},\n",
    "{'question':'Domestic livestock',\n",
    "        'options':['Dominant','Conspicuous but not dominant','Not common']},\n",
    "{'question':'Irrigation infrastructure',\n",
    "        'options':['Intensive','Conspicuous but not intensive','Not observed']},\n",
    "{'question':'Plantations of woody plants',\n",
    "        'options':['Dominant','Conspicuous but not dominant','Not common']},\n",
    "{'question':'Urban/industrial infrastructure',\n",
    "        'options':['Dominant','Conspicuous but not dominant','Not common']},\n",
    "{'question':'Parks/gardens in urban landscapes',\n",
    "        'options':['Dominant','Conspicuous but not dominant','Not common']},\n",
    "{'question':'Refuse dumps & excavations',\n",
    "        'options':['Dominant','Conspicuous but not dominant','Not common']}]\n"
   ]
  },
  {
   "cell_type": "markdown",
   "id": "b374ca1f-478e-427c-b83c-4e0cbcacdc08",
   "metadata": {},
   "source": [
    "This are the questions and answers for Animal traits"
   ]
  },
  {
   "cell_type": "code",
   "execution_count": 35,
   "id": "f2e57612-c42b-472a-b924-625dff6738f1",
   "metadata": {},
   "outputs": [],
   "source": [
    "FeatureGroups['Animal traits']=[{'question':'Large herbivores',\n",
    "        'options':['Dominant','Conspicuous but not dominant','Not common']},\n",
    "{'question':'Large carnivores',\n",
    "        'options':['Dominant','Conspicuous but not dominant','Not common']},\n",
    "{'question':'Arboreal primates',\n",
    "        'options':['Dominant','Conspicuous but not dominant','Not common']},\n",
    "{'question':'Other arboreal mammals',\n",
    "        'options':['Evidence of presence','not detected']},\n",
    "{'question':'Seabirds or marine mammals',\n",
    "        'options':['Dominant','Conspicuous but not dominant','Not common']},\n",
    "{'question':'Wetland birds',\n",
    "        'options':['Dominant','Conspicuous but not dominant','Not common']},\n",
    "{'question':'Semi-aquatic mammals, reptiles & amphibians',\n",
    "        'options':['Dominant','Conspicuous but not dominant','Not common']}]\n"
   ]
  },
  {
   "cell_type": "markdown",
   "id": "48287c24-8161-4084-9424-db7f145f8183",
   "metadata": {},
   "source": [
    "This are the questions and answers for Landscape features"
   ]
  },
  {
   "cell_type": "code",
   "execution_count": 48,
   "id": "b65b4268-75e4-4257-a867-075f27525324",
   "metadata": {},
   "outputs": [],
   "source": [
    "FeatureGroups['Landscape features']=[{'question':'Surface rock cover (includes rocks covered in moss/lichen)',\n",
    "        'options':['Dominan (>50% cover)','intermediate (5-10% cover)','Not common']},\n",
    "{'question':'Landform type',\n",
    "        'options':['Depositional flat','lower slope (deposition))','upper slope (erosion)','summit or ridge','plateau']},\n",
    "{'question':'Slope',\n",
    "        'options':['Flat (<2 deg)','Gentle (2-10deg)','Steep(10-25)','Very steep(>25)']},\n",
    "{'question':'Surface inundation',\n",
    "        'options':['Surface water present and likely persistent >1 month','Otherwise']},\n",
    "{'question':'Groundwater',\n",
    "        'options':['Frequently boggy (groundwater close to surface)','Otherwise']},\n",
    "{'question':'Snow cover',\n",
    "        'options':['Present and >10cm deep','None or <10cm deep']},\n",
    "{'question':'Permanent ice',\n",
    "        'options':['Present','absent']},\n",
    "{'question':'Fire',\n",
    "        'options':['Evidence of fire in recent years','Evidence of historical fire (charcoal scars)','no evidence of fire']},\n",
    "{'question':'Shoreline proximity',\n",
    "        'options':['Within 20m','Within 200m','>200m']},\n",
    "{'question':'Stream proximity',\n",
    "        'options':['Within 10m','Within 100m','>100m']}]"
   ]
  },
  {
   "cell_type": "markdown",
   "id": "4026b1e3-f16f-4202-9ea2-4be620dc1f27",
   "metadata": {},
   "source": [
    "each question has multiple answers, each answer related to multiple EFGs so question will be relevant when at least two of those are present\n",
    "\n",
    "same biome and same area -> narrowing down questions to discriminate those\n",
    "questions that discriminate between realms, questions that discriminate between biomes"
   ]
  },
  {
   "cell_type": "markdown",
   "id": "31a7556c-2ddd-4a4b-a0fb-444052f9c18e",
   "metadata": {},
   "source": [
    "Here we create a function to iterate through the questions and answers:"
   ]
  },
  {
   "cell_type": "code",
   "execution_count": 59,
   "id": "79694dfa-0f46-4819-a08a-4efb495b6c9c",
   "metadata": {},
   "outputs": [],
   "source": [
    "def select_response(Q,A,multiple=False):\n",
    "    print(Q)\n",
    "    for k in range(len(A)):\n",
    "        print(\"(%s) %s\" %(k,A[k]))\n",
    "        if multiple:\n",
    "            result=list()\n",
    "            mssg='select one or more response(s), X to finish'\n",
    "        else:\n",
    "            result=None\n",
    "            mssg='select your response, X to cancel'\n",
    "    while True:\n",
    "        slc=input(mssg)\n",
    "        if slc.isnumeric():\n",
    "            slc=int(slc)\n",
    "        if slc in range(len(A)):\n",
    "            if multiple:\n",
    "                result.append(A[slc])\n",
    "            else:\n",
    "                result=A[slc]\n",
    "                break\n",
    "        elif slc == \"X\":\n",
    "            print(\"Ok, go back\")\n",
    "            break\n",
    "        else:\n",
    "            print(\"Did not understand the response, try again.\")\n",
    "    if result is not None and len(result)>0:\n",
    "            return(result)"
   ]
  },
  {
   "cell_type": "code",
   "execution_count": 61,
   "id": "17acd64d-f1c3-4858-8345-306780679436",
   "metadata": {},
   "outputs": [
    {
     "name": "stdout",
     "output_type": "stream",
     "text": [
      "Surface rock cover (includes rocks covered in moss/lichen)\n",
      "(0) Dominan (>50% cover)\n",
      "(1) intermediate (5-10% cover)\n",
      "(2) Not common\n"
     ]
    },
    {
     "name": "stdin",
     "output_type": "stream",
     "text": [
      "select your response, X to cancel 2\n"
     ]
    },
    {
     "data": {
      "text/plain": [
       "'Not common'"
      ]
     },
     "execution_count": 61,
     "metadata": {},
     "output_type": "execute_result"
    }
   ],
   "source": [
    "select_response(FeatureGroups['Landscape features'][0]['question'],\n",
    "                FeatureGroups['Landscape features'][0]['options'],multiple=False)"
   ]
  },
  {
   "cell_type": "code",
   "execution_count": 63,
   "id": "beee8ca4-3e04-44bb-bad3-51165a119139",
   "metadata": {},
   "outputs": [],
   "source": [
    "def collect_responses(QA):\n",
    "    responses=dict()\n",
    "    while True:\n",
    "        for j in range(len(QA)):\n",
    "            if QA[j]['question'] not in responses.keys():\n",
    "                print(\"(%s) %s\" %(j,QA[j]['question']))\n",
    "        qst=input('select which feature to include, X to exit this menu')\n",
    "        if qst.isnumeric():\n",
    "            qst=int(qst)\n",
    "        if qst in range(len(QA)):\n",
    "            res=select_response(QA[qst]['question'],QA[qst]['options'])\n",
    "            if res is not None:\n",
    "                responses[QA[qst]['question']]=res\n",
    "            #print(QA[qst]['question'])\n",
    "            #opt=QA[qst]['options']\n",
    "            #for k in range(len(opt)):\n",
    "            #    print(\"(%s) %s\" %(k,opt[k]))\n",
    "            #slc=input('select your response, X to cancel')\n",
    "            #if slc.isnumeric():\n",
    "            #    slc=int(slc)\n",
    "            #if slc in range(len(opt)):\n",
    "            #    responses[QA[qst]['question']]=opt[slc]\n",
    "            #elif qst == \"X\":\n",
    "            #    print(\"Ok, go back\")\n",
    "            #    break\n",
    "            #else:\n",
    "            #    print(\"Did not understand the response, try again.\")\n",
    "        elif qst == \"X\":\n",
    "            print(\"Let's go to the next question\")\n",
    "            break\n",
    "        else:\n",
    "            print(\"Did not understand the response, try again.\")\n",
    "    return(responses) "
   ]
  },
  {
   "cell_type": "code",
   "execution_count": null,
   "id": "12dee777-0a13-4266-9ddf-0f06a7f9f64b",
   "metadata": {},
   "outputs": [],
   "source": []
  },
  {
   "cell_type": "code",
   "execution_count": 64,
   "id": "820c19e3-540c-4288-ba38-a2e06f446075",
   "metadata": {},
   "outputs": [],
   "source": [
    "def annotate(features):\n",
    "    responses=dict()\n",
    "    feat_grp = list(features.keys())\n",
    "    while True:\n",
    "        for j in range(len(feat_grp)):\n",
    "            print(\"(%s) %s\" %(j,feat_grp[j]))\n",
    "        qst=input('select one feature group to review next, or X to finish')\n",
    "        if qst.isnumeric():\n",
    "            qst=int(qst)\n",
    "        if qst in range(len(feat_grp)):\n",
    "            ans=feat_grp[qst]\n",
    "            print(\"You selected %s:\" % ans)\n",
    "            if len(features[ans])>0:\n",
    "                responses[ans]=collect_responses(features[ans])\n",
    "            else:\n",
    "                print(\"No further questions for now\")\n",
    "        elif qst == \"X\":\n",
    "            print(\"Ok, Thanks!\")\n",
    "            break\n",
    "        else:\n",
    "            print(\"Did not understand the response, try again.\")\n",
    "    return(responses)"
   ]
  },
  {
   "cell_type": "code",
   "execution_count": 65,
   "id": "9c897a6f-9e67-447d-8c4d-5cb080ae4895",
   "metadata": {},
   "outputs": [
    {
     "name": "stdout",
     "output_type": "stream",
     "text": [
      "(0) Vegetation structure\n",
      "(1) Animal traits\n",
      "(2) Plant traits\n",
      "(3) Landscape features\n",
      "(4) Human activity\n"
     ]
    },
    {
     "name": "stdin",
     "output_type": "stream",
     "text": [
      "select one feature group to review next, or X to finish 4\n"
     ]
    },
    {
     "name": "stdout",
     "output_type": "stream",
     "text": [
      "You selected Human activity:\n",
      "(0) Cultivated crops (<2 yr rotation)\n",
      "(1) Artificial pastures\n",
      "(2) Domestic livestock\n",
      "(3) Irrigation infrastructure\n",
      "(4) Plantations of woody plants\n",
      "(5) Urban/industrial infrastructure\n",
      "(6) Parks/gardens in urban landscapes\n",
      "(7) Refuse dumps & excavations\n"
     ]
    },
    {
     "name": "stdin",
     "output_type": "stream",
     "text": [
      "select which feature to include, X to exit this menu 0\n"
     ]
    },
    {
     "name": "stdout",
     "output_type": "stream",
     "text": [
      "Cultivated crops (<2 yr rotation)\n",
      "(0) Dominant\n",
      "(1) Conspicuous but not dominant\n",
      "(2) Not common\n"
     ]
    },
    {
     "name": "stdin",
     "output_type": "stream",
     "text": [
      "select your response, X to cancel 0\n"
     ]
    },
    {
     "name": "stdout",
     "output_type": "stream",
     "text": [
      "(1) Artificial pastures\n",
      "(2) Domestic livestock\n",
      "(3) Irrigation infrastructure\n",
      "(4) Plantations of woody plants\n",
      "(5) Urban/industrial infrastructure\n",
      "(6) Parks/gardens in urban landscapes\n",
      "(7) Refuse dumps & excavations\n"
     ]
    },
    {
     "name": "stdin",
     "output_type": "stream",
     "text": [
      "select which feature to include, X to exit this menu 2\n"
     ]
    },
    {
     "name": "stdout",
     "output_type": "stream",
     "text": [
      "Domestic livestock\n",
      "(0) Dominant\n",
      "(1) Conspicuous but not dominant\n",
      "(2) Not common\n"
     ]
    },
    {
     "name": "stdin",
     "output_type": "stream",
     "text": [
      "select your response, X to cancel 0\n"
     ]
    },
    {
     "name": "stdout",
     "output_type": "stream",
     "text": [
      "(1) Artificial pastures\n",
      "(3) Irrigation infrastructure\n",
      "(4) Plantations of woody plants\n",
      "(5) Urban/industrial infrastructure\n",
      "(6) Parks/gardens in urban landscapes\n",
      "(7) Refuse dumps & excavations\n"
     ]
    },
    {
     "name": "stdin",
     "output_type": "stream",
     "text": [
      "select which feature to include, X to exit this menu 7\n"
     ]
    },
    {
     "name": "stdout",
     "output_type": "stream",
     "text": [
      "Refuse dumps & excavations\n",
      "(0) Dominant\n",
      "(1) Conspicuous but not dominant\n",
      "(2) Not common\n"
     ]
    },
    {
     "name": "stdin",
     "output_type": "stream",
     "text": [
      "select your response, X to cancel 1\n"
     ]
    },
    {
     "name": "stdout",
     "output_type": "stream",
     "text": [
      "(1) Artificial pastures\n",
      "(3) Irrigation infrastructure\n",
      "(4) Plantations of woody plants\n",
      "(5) Urban/industrial infrastructure\n",
      "(6) Parks/gardens in urban landscapes\n"
     ]
    },
    {
     "name": "stdin",
     "output_type": "stream",
     "text": [
      "select which feature to include, X to exit this menu X\n"
     ]
    },
    {
     "name": "stdout",
     "output_type": "stream",
     "text": [
      "Let's go to the next question\n",
      "(0) Vegetation structure\n",
      "(1) Animal traits\n",
      "(2) Plant traits\n",
      "(3) Landscape features\n",
      "(4) Human activity\n"
     ]
    },
    {
     "name": "stdin",
     "output_type": "stream",
     "text": [
      "select one feature group to review next, or X to finish 2\n"
     ]
    },
    {
     "name": "stdout",
     "output_type": "stream",
     "text": [
      "You selected Plant traits:\n",
      "No further questions for now\n",
      "(0) Vegetation structure\n",
      "(1) Animal traits\n",
      "(2) Plant traits\n",
      "(3) Landscape features\n",
      "(4) Human activity\n"
     ]
    },
    {
     "name": "stdin",
     "output_type": "stream",
     "text": [
      "select one feature group to review next, or X to finish 1\n"
     ]
    },
    {
     "name": "stdout",
     "output_type": "stream",
     "text": [
      "You selected Animal traits:\n",
      "(0) Large herbivores\n",
      "(1) Large carnivores\n",
      "(2) Arboreal primates\n",
      "(3) Other arboreal mammals\n",
      "(4) Seabirds or marine mammals\n",
      "(5) Wetland birds\n",
      "(6) Semi-aquatic mammals, reptiles & amphibians\n"
     ]
    },
    {
     "name": "stdin",
     "output_type": "stream",
     "text": [
      "select which feature to include, X to exit this menu 3\n"
     ]
    },
    {
     "name": "stdout",
     "output_type": "stream",
     "text": [
      "Other arboreal mammals\n",
      "(0) Evidence of presence\n",
      "(1) not detected\n"
     ]
    },
    {
     "name": "stdin",
     "output_type": "stream",
     "text": [
      "select your response, X to cancel 0\n"
     ]
    },
    {
     "name": "stdout",
     "output_type": "stream",
     "text": [
      "(0) Large herbivores\n",
      "(1) Large carnivores\n",
      "(2) Arboreal primates\n",
      "(4) Seabirds or marine mammals\n",
      "(5) Wetland birds\n",
      "(6) Semi-aquatic mammals, reptiles & amphibians\n"
     ]
    },
    {
     "name": "stdin",
     "output_type": "stream",
     "text": [
      "select which feature to include, X to exit this menu X\n"
     ]
    },
    {
     "name": "stdout",
     "output_type": "stream",
     "text": [
      "Let's go to the next question\n",
      "(0) Vegetation structure\n",
      "(1) Animal traits\n",
      "(2) Plant traits\n",
      "(3) Landscape features\n",
      "(4) Human activity\n"
     ]
    },
    {
     "name": "stdin",
     "output_type": "stream",
     "text": [
      "select one feature group to review next, or X to finish X\n"
     ]
    },
    {
     "name": "stdout",
     "output_type": "stream",
     "text": [
      "Ok, Thanks!\n"
     ]
    },
    {
     "data": {
      "text/plain": [
       "{'Human activity': {'Cultivated crops (<2 yr rotation)': 'Dominant',\n",
       "  'Domestic livestock': 'Dominant',\n",
       "  'Refuse dumps & excavations': 'Conspicuous but not dominant'},\n",
       " 'Animal traits': {'Other arboreal mammals': 'Evidence of presence'}}"
      ]
     },
     "execution_count": 65,
     "metadata": {},
     "output_type": "execute_result"
    }
   ],
   "source": [
    "annotate(FeatureGroups)"
   ]
  },
  {
   "cell_type": "code",
   "execution_count": null,
   "id": "be1ee2ad-b0de-408e-8e87-ec94ca816bea",
   "metadata": {},
   "outputs": [],
   "source": []
  }
 ],
 "metadata": {
  "kernelspec": {
   "display_name": "Python 3",
   "language": "python",
   "name": "python3"
  },
  "language_info": {
   "codemirror_mode": {
    "name": "ipython",
    "version": 3
   },
   "file_extension": ".py",
   "mimetype": "text/x-python",
   "name": "python",
   "nbconvert_exporter": "python",
   "pygments_lexer": "ipython3",
   "version": "3.9.6"
  }
 },
 "nbformat": 4,
 "nbformat_minor": 5
}
