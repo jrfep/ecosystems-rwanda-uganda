{
 "cells": [
  {
   "cell_type": "code",
   "execution_count": 16,
   "id": "b0a53abd-e732-414d-a53a-610310279fc4",
   "metadata": {
    "tags": []
   },
   "outputs": [],
   "source": [
    "# importing element tree\n",
    "# under the alias of ET\n",
    "from urllib.request import urlopen\n",
    "import xml.etree.ElementTree as ET\n",
    "#import requests\n",
    "#import xmltodict"
   ]
  },
  {
   "cell_type": "markdown",
   "id": "0a4aeab3-de4f-4f71-8242-797ee5cf536f",
   "metadata": {},
   "source": [
    "Read the xml file with a sample of wetlands from Ramsar"
   ]
  },
  {
   "cell_type": "code",
   "execution_count": 18,
   "id": "9ce24b51-467e-4c9d-8739-7d33636b3f8b",
   "metadata": {
    "tags": []
   },
   "outputs": [
    {
     "name": "stdout",
     "output_type": "stream",
     "text": [
      "https://rsis.ramsar.org/ris/818 Uchhali Complex \n",
      "https://rsis.ramsar.org/ris/1287 Pulau Kukup\n",
      "https://rsis.ramsar.org/ris/1451 Grassland Ecological Area (GEA)\n",
      "https://rsis.ramsar.org/ris/33 Tavvavuoma\n",
      "https://rsis.ramsar.org/ris/1646 Upper Kiskunság alkaline steppes \n",
      "https://rsis.ramsar.org/ris/1691 Lagunas Las Arreviatadas\n",
      "https://rsis.ramsar.org/ris/699 Gorbita Delta\n",
      "https://rsis.ramsar.org/ris/183 Velence and Dinnyés Nature Conservation Area\n",
      "https://rsis.ramsar.org/ris/2042 Sue and Wes Dixon Waterfowl Refuge at Hennepin & Hopper Lakes\n",
      "https://rsis.ramsar.org/ris/419 Lakes by Tata\n"
     ]
    }
   ],
   "source": [
    "RIS = \"https://rsis.ramsar.org/rss/ris.xml\"\n",
    "with urlopen(RIS) as f:\n",
    "    tree = ET.parse(f)\n",
    "    root = tree.getroot()\n",
    "\n",
    "    for _id in root[0].findall('item'):\n",
    "        rank = _id.find('title').text\n",
    "        name = _id.find('link').text\n",
    "        print(name, rank)"
   ]
  },
  {
   "cell_type": "raw",
   "id": "66000814-0e4e-4129-b0f1-9ea3c7985196",
   "metadata": {},
   "source": []
  }
 ],
 "metadata": {
  "kernelspec": {
   "display_name": "Python 3 (ipykernel)",
   "language": "python",
   "name": "python3"
  },
  "language_info": {
   "codemirror_mode": {
    "name": "ipython",
    "version": 3
   },
   "file_extension": ".py",
   "mimetype": "text/x-python",
   "name": "python",
   "nbconvert_exporter": "python",
   "pygments_lexer": "ipython3",
   "version": "3.10.9"
  }
 },
 "nbformat": 4,
 "nbformat_minor": 5
}
