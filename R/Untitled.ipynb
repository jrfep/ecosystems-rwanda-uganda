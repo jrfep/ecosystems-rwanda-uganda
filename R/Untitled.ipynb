{
 "cells": [
  {
   "cell_type": "code",
   "execution_count": 1,
   "id": "ffc5a0d4-cc72-4415-836d-5c8a2e3d4b8a",
   "metadata": {},
   "outputs": [
    {
     "name": "stderr",
     "output_type": "stream",
     "text": [
      "Loading required package: mapview\n",
      "\n",
      "Warning message in library(package, lib.loc = lib.loc, character.only = TRUE, logical.return = TRUE, :\n",
      "“there is no package called ‘mapview’”\n",
      "Loading required package: sf\n",
      "\n",
      "Warning message in library(package, lib.loc = lib.loc, character.only = TRUE, logical.return = TRUE, :\n",
      "“there is no package called ‘sf’”\n",
      "Loading required package: dplyr\n",
      "\n",
      "\n",
      "Attaching package: ‘dplyr’\n",
      "\n",
      "\n",
      "The following objects are masked from ‘package:stats’:\n",
      "\n",
      "    filter, lag\n",
      "\n",
      "\n",
      "The following objects are masked from ‘package:base’:\n",
      "\n",
      "    intersect, setdiff, setequal, union\n",
      "\n",
      "\n"
     ]
    },
    {
     "ename": "ERROR",
     "evalue": "Error in mapviewOptions(fgb = FALSE): could not find function \"mapviewOptions\"\n",
     "output_type": "error",
     "traceback": [
      "Error in mapviewOptions(fgb = FALSE): could not find function \"mapviewOptions\"\nTraceback:\n"
     ]
    }
   ],
   "source": [
    "require(mapview)\n",
    "require(sf)\n",
    "require(dplyr)\n",
    "# depending on the version of GDAL, you might need to use `fgb = TRUE` instead \n",
    "mapviewOptions(fgb = FALSE) \n",
    "gpx_file <- \"~/Desktop/Rwanda-July-2022/data/igishigishigi-trail-nyungwe-forest.gpx\"# path and filename\n",
    "read_sf(gpx_file,'tracks') -> paseo\n",
    "comments <- read_sf(gpx_file,'waypoints') # %>% select(ele,name,link2_href) \n",
    "paseo %>% st_geometry() %>% plot() # check if there is data on the track\n",
    "mapview(paseo) + mapview(comments)\n"
   ]
  },
  {
   "cell_type": "code",
   "execution_count": null,
   "id": "6d23f0cd-79fe-4df2-90ef-e2f27fc4bea4",
   "metadata": {},
   "outputs": [],
   "source": []
  }
 ],
 "metadata": {
  "kernelspec": {
   "display_name": "R",
   "language": "R",
   "name": "ir"
  },
  "language_info": {
   "codemirror_mode": "r",
   "file_extension": ".r",
   "mimetype": "text/x-r-source",
   "name": "R",
   "pygments_lexer": "r",
   "version": "4.1.2"
  }
 },
 "nbformat": 4,
 "nbformat_minor": 5
}
